{
 "cells": [
  {
   "cell_type": "code",
   "execution_count": 1,
   "metadata": {
    "collapsed": true,
    "deletable": true,
    "editable": true
   },
   "outputs": [],
   "source": [
    "from math import log10\n",
    "from collections import Counter, defaultdict\n",
    "import codecs\n",
    "import math"
   ]
  },
  {
   "cell_type": "code",
   "execution_count": 2,
   "metadata": {
    "collapsed": true,
    "deletable": true,
    "editable": true
   },
   "outputs": [],
   "source": [
    "# todo : 把文章preprocessing 然後存成text檔案。\n",
    "\n"
   ]
  },
  {
   "cell_type": "code",
   "execution_count": 4,
   "metadata": {
    "collapsed": false,
    "deletable": true,
    "editable": true
   },
   "outputs": [
    {
     "name": "stdout",
     "output_type": "stream",
     "text": [
      "我和閃在一起三個月多了\\n讓我想起了一開始\\n我只要對她講出\\n一下這些話她就會開始出現鬼打牆的現象\\n:[我會很愛妳、我們會在一起很久、我永遠都是妳的、我就喜歡妳陪在我身邊、不管發生什麼事我都會陪在妳身邊、我永遠不會丟下妳(其實我自己也很怕寂寞XD)。]\\n我剛開始認識她的時候我就覺得她就是我喜歡的女生，小小隻可愛可愛的。\\n我和閃認識了兩個多月我知道了她很多事\\n我是她第五任的男友，她曾經被騙過、被劈腿過。\\n所以每當我和她說以上那些話的時候她就會陷入自我封閉的狀況當中，當下我說什麼她都聽不進去。\\n這些都是一開始她對我的不信任\\n雖然我有些時候覺得這樣對我很不公平，我是真心喜歡她。我是真的不懂被騙被劈腿的痛，但我對妳做的每件事、說的每句話我都很真心。\\n好吧～我只好繼續加油！！！\\n當她陷入這樣的情緒時，我只能默默的在旁邊陪這她，等她冷靜下來。\\n我曾經對她說過:『妳過去的傷如果時間沒辦法幫妳撫平那就讓我試試吧，妳每次都這樣逃避下去也不是辦法我是很真心的喜歡妳。』\\n就這樣我陪在她身邊過了一個多月，她也慢慢的依賴我相信我之後我們就順利的在一起了。\\n我必須要說其實我一開始也很怕被騙，怕她其實不只和我一個人曖昧。和閃在一起之前對自己沒什麼自信，我覺得比自己好的人到處都是。我害怕我付出了我所有的真心卻換來一場空。害怕她只是抱著玩玩的心態陪我而已，等到保鮮期到了覺得過期了、膩了就離開我。\\n但她最後給我的是安心的感覺，男生也是需要安全感的。\\n她總是能在對的時間說出對的話，在我需要她的時候她總會出現陪我。\\n打到這裡我只想對妳說:\\n這是我們在一起的第三個月，我們在一起的這段時間我成長了，謝謝妳教會了我這麼多。\\n妳曾經對我說:『不要這麼寵我啦，我都快要被妳寵成公主了。我被你寵壞後你會不會就不要我了？』\\n我的回答當然是:\\n.\\n.\\n.\\n.\\n.\\n.\\n.\\n.\\n.\\n.\\n.\\n.\\n.\\n.\\n\\n我不會離開妳ㄚ笨蛋\\n我好不容易遇見妳\\n好不容易學會了怎麼對一個人付出\\n好不容易不用在去享受寂寞\\n就讓我繼續愛妳吧\n",
      "\n",
      "\n",
      "\n",
      "我們的個性想法都不同，磨合了一段時間後發現當朋友比較適合，所以又從情侶退回朋友，但我還是希望可以追回她，所以我檢視了自己的缺點然後改過，現在她也說她看的出來我有改，但是對我常常已讀不回或貼圖敷衍，我看她跟其他追她的男生不是這樣，讓我非常困擾😔，對我來說她的重要是無法用言語來形容，所以想要再一次把她追回來，我還能再做些什麼來挽回呢？\", \"excerpt\" : \"我們的個性想法都不同，磨合了一段時間後發現當朋友比較適合，所以又從情侶退回朋友，但我還是希望可以追回她，所以我檢視了自己的缺點然後改過，現在她也說她看的出來我有改，但是對我常常已讀不回或貼圖敷衍，我看她跟其他追她的男生不是這樣，讓我非常困擾，對我來說她的重要是無法用言語來形容，所以想要再一次把她追回來，我還能再做些什麼來挽回呢？\n",
      "\n",
      "\n",
      "\n"
     ]
    }
   ],
   "source": [
    "filename = \"text_file.txt\"\n",
    "V1 = 10000\n",
    "V2 = 10000**2\n",
    "k = 10\n",
    "\n",
    "def to_ngrams(unigrams, length):\n",
    "    return zip(*[unigrams[i:] for i in range(length)])\n",
    "\n",
    "unigram_counts, bigram_counts = Counter(), Counter()\n",
    "with open(filename, 'r') as text_file:\n",
    "    for line in text_file:\n",
    "        print(line)\n",
    "        unigram_counts.update(line)\n",
    "        bigram_counts.update(to_ngrams(line, 2))"
   ]
  },
  {
   "cell_type": "code",
   "execution_count": 5,
   "metadata": {
    "collapsed": false,
    "deletable": true,
    "editable": true
   },
   "outputs": [
    {
     "name": "stdout",
     "output_type": "stream",
     "text": [
      "[('我', 80), ('\\\\', 41), ('n', 41), ('的', 41), ('，', 39)]\n"
     ]
    }
   ],
   "source": [
    "print(unigram_counts.most_common(5))"
   ]
  },
  {
   "cell_type": "code",
   "execution_count": 6,
   "metadata": {
    "collapsed": false,
    "deletable": true,
    "editable": true
   },
   "outputs": [
    {
     "name": "stdout",
     "output_type": "stream",
     "text": [
      "[(('\\\\', 'n'), 41), (('.', '\\\\'), 14), (('n', '.'), 14), (('。', '\\\\'), 10), (('，', '我'), 9)]\n"
     ]
    }
   ],
   "source": [
    "print(bigram_counts.most_common(5))"
   ]
  },
  {
   "cell_type": "code",
   "execution_count": 9,
   "metadata": {
    "collapsed": false,
    "deletable": true,
    "editable": true
   },
   "outputs": [
    {
     "name": "stdout",
     "output_type": "stream",
     "text": [
      "9713 99999224\n"
     ]
    }
   ],
   "source": [
    "# compute N1, N2, N3...\n",
    "unigram_Nr = Counter(unigram_counts.values())\n",
    "bigram_Nr = Counter(bigram_counts.values())\n",
    "# compute N0\n",
    "unigram_Nr[0] = V1 - len(unigram_counts)\n",
    "bigram_Nr[0] = V2 - len(bigram_counts)\n",
    "print(unigram_Nr[0], bigram_Nr[0])"
   ]
  },
  {
   "cell_type": "code",
   "execution_count": 12,
   "metadata": {
    "collapsed": false,
    "deletable": true,
    "editable": true
   },
   "outputs": [
    {
     "name": "stdout",
     "output_type": "stream",
     "text": [
      "287\n",
      "776\n"
     ]
    }
   ],
   "source": [
    "print(len(unigram_counts))\n",
    "print(len(bigram_counts))"
   ]
  },
  {
   "cell_type": "code",
   "execution_count": null,
   "metadata": {
    "collapsed": true,
    "deletable": true,
    "editable": true
   },
   "outputs": [],
   "source": []
  }
 ],
 "metadata": {
  "kernelspec": {
   "display_name": "Python 3",
   "language": "python",
   "name": "python3"
  },
  "language_info": {
   "codemirror_mode": {
    "name": "ipython",
    "version": 3
   },
   "file_extension": ".py",
   "mimetype": "text/x-python",
   "name": "python",
   "nbconvert_exporter": "python",
   "pygments_lexer": "ipython3",
   "version": "3.5.3"
  }
 },
 "nbformat": 4,
 "nbformat_minor": 2
}
