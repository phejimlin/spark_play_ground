{
 "cells": [
  {
   "cell_type": "code",
   "execution_count": 2,
   "metadata": {
    "collapsed": true,
    "deletable": true,
    "editable": true
   },
   "outputs": [],
   "source": [
    "import re\n",
    "from collections import Counter\n",
    "from pyspark import SparkContext\n",
    "sc = SparkContext()"
   ]
  },
  {
   "cell_type": "code",
   "execution_count": 3,
   "metadata": {
    "collapsed": true,
    "deletable": true,
    "editable": true
   },
   "outputs": [],
   "source": [
    "from pyspark.sql import SparkSession\n",
    "import sys\n",
    "my_spark = SparkSession \\\n",
    "    .builder \\\n",
    "    .appName(\"dcard\") \\\n",
    "    .config(\"spark.mongodb.input.uri\", \"mongodb://192.168.2.12:27017/dcard.talk_posts\") \\\n",
    "    .config(\"spark.mongodb.output.uri\", \"mongodb://192.168.2.12:27017/dcard.talk_posts\") \\\n",
    "    .getOrCreate()"
   ]
  },
  {
   "cell_type": "code",
   "execution_count": 4,
   "metadata": {
    "collapsed": true,
    "deletable": true,
    "editable": true
   },
   "outputs": [],
   "source": [
    "df = my_spark.read.format(\"com.mongodb.spark.sql.DefaultSource\").load()"
   ]
  },
  {
   "cell_type": "code",
   "execution_count": 5,
   "metadata": {
    "collapsed": false,
    "deletable": true,
    "editable": true
   },
   "outputs": [
    {
     "name": "stdout",
     "output_type": "stream",
     "text": [
      "root\n",
      " |-- _id: integer (nullable = true)\n",
      " |-- anonymousDepartment: boolean (nullable = true)\n",
      " |-- anonymousSchool: boolean (nullable = true)\n",
      " |-- commentCount: integer (nullable = true)\n",
      " |-- content: string (nullable = true)\n",
      " |-- createdAt: string (nullable = true)\n",
      " |-- department: string (nullable = true)\n",
      " |-- excerpt: string (nullable = true)\n",
      " |-- forumAlias: string (nullable = true)\n",
      " |-- forumId: string (nullable = true)\n",
      " |-- forumName: string (nullable = true)\n",
      " |-- gender: string (nullable = true)\n",
      " |-- hidden: boolean (nullable = true)\n",
      " |-- hiddenByAuthor: boolean (nullable = true)\n",
      " |-- likeCount: integer (nullable = true)\n",
      " |-- media: array (nullable = true)\n",
      " |    |-- element: struct (containsNull = true)\n",
      " |    |    |-- url: string (nullable = true)\n",
      " |-- pinned: boolean (nullable = true)\n",
      " |-- replyId: integer (nullable = true)\n",
      " |-- replyTitle: string (nullable = true)\n",
      " |-- reportReason: string (nullable = true)\n",
      " |-- school: string (nullable = true)\n",
      " |-- tags: array (nullable = true)\n",
      " |    |-- element: string (containsNull = true)\n",
      " |-- title: string (nullable = true)\n",
      " |-- updatedAt: string (nullable = true)\n",
      " |-- withNickname: boolean (nullable = true)\n",
      "\n"
     ]
    }
   ],
   "source": [
    "df.printSchema()"
   ]
  },
  {
   "cell_type": "code",
   "execution_count": 6,
   "metadata": {
    "collapsed": false,
    "deletable": true,
    "editable": true,
    "scrolled": true
   },
   "outputs": [
    {
     "name": "stdout",
     "output_type": "stream",
     "text": [
      "+-----------+-----+\n",
      "|     school|count|\n",
      "+-----------+-----+\n",
      "|       新堡大學|    9|\n",
      "| 國立高雄海洋科技大學|   34|\n",
      "|        屏科大|  436|\n",
      "|      亞當森大學|    1|\n",
      "|       格魯斯特|    1|\n",
      "| 國立臺南護理專科學校|   21|\n",
      "|     香港浸會大學|    1|\n",
      "|    love♏的♎|    1|\n",
      "|         七七|    1|\n",
      "|       森野小街|    1|\n",
      "|   Ladycaca|    1|\n",
      "|       伊比爾喬|    1|\n",
      "|      理論型情聖|    1|\n",
      "|        OwO|    1|\n",
      "|         小隻|    1|\n",
      "|💸挖壕溝的女子嘟🔨|    1|\n",
      "|         米米|    1|\n",
      "|     142小女紙|    2|\n",
      "|        紅心K|    1|\n",
      "|       新鮮な肝|    1|\n",
      "+-----------+-----+\n",
      "only showing top 20 rows\n",
      "\n"
     ]
    }
   ],
   "source": [
    "df.groupBy(\"school\").count().show()"
   ]
  },
  {
   "cell_type": "code",
   "execution_count": 7,
   "metadata": {
    "collapsed": false,
    "deletable": true,
    "editable": true,
    "scrolled": true
   },
   "outputs": [
    {
     "data": {
      "text/plain": [
       "[Row(_id=6150, anonymousDepartment=False, anonymousSchool=False, commentCount=19, content='好酷噢可以按讚XD', createdAt='2014-04-10T08:16:24.673Z', department='資訊工程學系', excerpt='好酷噢可以按讚XD', forumAlias='talk', forumId='255fd275-fec2-49d2-8e46-2e1557ffaeb0', forumName='閒聊', gender='M', hidden=False, hiddenByAuthor=False, likeCount=82, media=[], pinned=False, replyId=None, replyTitle='null', reportReason='', school='淡江大學', tags=[], title='新功能耶！', updatedAt='2014-04-10T08:16:24.673Z', withNickname=None),\n",
       " Row(_id=6151, anonymousDepartment=False, anonymousSchool=False, commentCount=60, content='大家快來給點建議吧 : )', createdAt='2014-04-10T09:15:11.945Z', department=' ', excerpt='大家快來給點建議吧 : )', forumAlias='talk', forumId='255fd275-fec2-49d2-8e46-2e1557ffaeb0', forumName='閒聊', gender='D', hidden=False, hiddenByAuthor=False, likeCount=18, media=[], pinned=False, replyId=None, replyTitle='null', reportReason='', school='狄卡', tags=[], title='新版建議', updatedAt='2014-04-10T09:15:11.945Z', withNickname=None),\n",
       " Row(_id=6152, anonymousDepartment=False, anonymousSchool=False, commentCount=6, content='或用撰寫新文章回應打成長長一篇！', createdAt='2014-04-10T09:40:02.307Z', department='資訊管理學系', excerpt='或用撰寫新文章回應打成長長一篇！', forumAlias='talk', forumId='255fd275-fec2-49d2-8e46-2e1557ffaeb0', forumName='閒聊', gender='M', hidden=False, hiddenByAuthor=False, likeCount=5, media=[], pinned=False, replyId=6151, replyTitle='新版建議', reportReason='', school='國立臺灣大學', tags=[], title='Re: 新版建議', updatedAt='2014-04-10T09:40:02.307Z', withNickname=None),\n",
       " Row(_id=6171, anonymousDepartment=False, anonymousSchool=False, commentCount=20, content='個人覺得喜歡的按鈕功能很惹人煩\\n不需要上個網全世界都要按讚吧QAQ\\n不認為喜歡鈕的新增是個好主意...', createdAt='2014-04-12T13:36:16.320Z', department='地球科學系', excerpt='個人覺得喜歡的按鈕功能很惹人煩\\n不需要上個網全世界都要按讚吧QAQ\\n不認為喜歡鈕的新增是個好主意...', forumAlias='talk', forumId='255fd275-fec2-49d2-8e46-2e1557ffaeb0', forumName='閒聊', gender='M', hidden=False, hiddenByAuthor=False, likeCount=27, media=[], pinned=False, replyId=None, replyTitle='null', reportReason='', school='中央大學', tags=[], title='拜託不要越來越像臉書...', updatedAt='2014-04-12T13:36:16.320Z', withNickname=None),\n",
       " Row(_id=6181, anonymousDepartment=False, anonymousSchool=False, commentCount=4, content='https://www.youtube.com/watch?v=JAjXKnFoaZI\\n\\n2014臺大畢業季主題曲「還記得嗎」\\n\\n詞：Crispy脆樂團\\n曲：Skippy\\n\\n這條路我走了四年 總仰望盡頭的藍天\\n兩排的椰子樹就像侍衛 守護著我們的從前\\n總有一天我們要說再見 走入大人的世界\\n倒影在湖面上的時間 又悄悄走了幾圈\\n\\n還記得嗎 對爸媽說我會拿書卷獎\\n在地下室等著迎接曙光\\n看見你的表情和我一樣\\n我笑了吧\\n\\n還記得嗎 鏡子裡整齊劃一的模樣\\n一個人躲在房間練吉他\\n拼了命跟上大家的步伐\\n我大聲唱\\n\"時間不能夠重來 我不要留下一分一秒的空白\"\\n\\n你對我說面對新的生活 有些不安和惶恐\\n是會一飛沖天變成英雄 還是流星般墜落\\n別害怕 相信自己 和那些倔強執著\\n每個人都是一片天空 綻放自己的煙火\\n\\n還記得嗎 一起翹課占領籃球場\\n在宿舍電腦裡釋放魔法\\n在哪裡跌倒哪裡受了傷\\n我不會怕\\n\\n還記得嗎 一起走在圖書館的長廊\\n在耳邊小小聲說著夢想\\n空無一人的椰林大道上\\n我大聲唱\\n\"想要改變全世界 這裡就是我們的 起點\"\\n\\n還記得嗎 第一次遇見她的地方\\n牽著手散步在舟山路上\\n不再去在意別人的眼光\\n我吻了她\\n\\n還記得嗎 對鏡子告訴自己要堅強\\n不管未來會在哪個地方\\n在人擠人的畢業舞會上\\n換上西裝\\n\"人生不需要100分 能和你們一起走過就值得\"', createdAt='2014-04-13T03:30:48.722Z', department=' ', excerpt='https://www.youtube.com/watch?v=JAjXKnFoaZI\\n\\n2014臺大畢業季主題曲「還記得嗎」\\n\\n詞：Crispy脆樂團\\n曲：Skippy\\n\\n這條路我走了四年 總仰望盡', forumAlias='talk', forumId='255fd275-fec2-49d2-8e46-2e1557ffaeb0', forumName='閒聊', gender='D', hidden=False, hiddenByAuthor=False, likeCount=26, media=[], pinned=False, replyId=None, replyTitle='null', reportReason='', school='狄卡', tags=[], title='2014臺大畢業季主題曲「還記得嗎」MV', updatedAt='2014-04-13T03:30:48.722Z', withNickname=None)]"
      ]
     },
     "execution_count": 7,
     "metadata": {},
     "output_type": "execute_result"
    }
   ],
   "source": [
    "df.take(5)"
   ]
  },
  {
   "cell_type": "code",
   "execution_count": 8,
   "metadata": {
    "collapsed": true,
    "deletable": true,
    "editable": true
   },
   "outputs": [],
   "source": [
    "content = df.select('content')\n",
    "content_rdd = content.rdd"
   ]
  },
  {
   "cell_type": "code",
   "execution_count": 9,
   "metadata": {
    "collapsed": false,
    "deletable": true,
    "editable": true
   },
   "outputs": [
    {
     "name": "stdout",
     "output_type": "stream",
     "text": [
      "PythonRDD[25] at RDD at PythonRDD.scala:48\n",
      "79631\n"
     ]
    }
   ],
   "source": [
    "lineLengths = content_rdd.map(lambda s: len(s))\n",
    "totalLength = lineLengths.reduce(lambda a, b: a + b)\n",
    "print(lineLengths)\n",
    "print(totalLength)"
   ]
  },
  {
   "cell_type": "code",
   "execution_count": 10,
   "metadata": {
    "collapsed": false,
    "deletable": true,
    "editable": true
   },
   "outputs": [
    {
     "data": {
      "text/plain": [
       "[Row(content='🤔🤔\\n聽說今年在屏東某地的潮X高中\\n全國繁星第一 (110人)\\n但只有46個人上國立\\n難道這就是所謂有學校就讀的概念嗎?\\n\\n還有據說繁星進大學的 都蠻優秀的\\n是這樣嗎？'),\n",
       " Row(content='🤔剛剛要回文時已經找不到了\\n總之，內容就是跟姊姊一起刮卡然後中了205萬，於是發上來的照片我怎麼看都沒中😂。\\n\\n祝大家新年快樂，也希望大家在刮彩卷之類的東西能夠好好看清楚喔🙌，以免遇到以為中獎一家人很high，結果被網友說沒中的哭哭戲碼。\\nhttps://i.imgur.com/Svbg4BF.jpg\\n沒有截文章 截到圖片而已\\n\\n大家加油喔👊')]"
      ]
     },
     "execution_count": 10,
     "metadata": {},
     "output_type": "execute_result"
    }
   ],
   "source": [
    "content_rdd.top(2)"
   ]
  },
  {
   "cell_type": "code",
   "execution_count": 11,
   "metadata": {
    "collapsed": true,
    "deletable": true,
    "editable": true
   },
   "outputs": [],
   "source": [
    "def remove_url(sentence):\n",
    "    # remove url\n",
    "    sentence = re.sub(r'^https?:\\/\\/.*[\\r\\n]*', '', sentence, flags=re.MULTILINE)\n",
    "\n",
    "    # remove punctuation\n",
    "    text_list = re.split('\\W+', sentence)\n",
    "    return list(filter(None, text_list))\n"
   ]
  },
  {
   "cell_type": "code",
   "execution_count": 12,
   "metadata": {
    "collapsed": true,
    "deletable": true,
    "editable": true
   },
   "outputs": [],
   "source": [
    "test = '🤔剛剛要回文時已經找不到了\\n總之，內容就是跟姊姊一起刮卡然後中了205萬，於是發上來的照片我怎麼看都沒中😂。\\n\\n祝大家新年快樂，也希望大家在刮彩卷之類的東西能夠好好看清楚喔🙌，以免遇到以為中獎一家人很high，結果被網友說沒中的哭哭戲碼。\\nhttps://i.imgur.com/Svbg4BF.jpg\\n沒有截文章 截到圖片而已\\n\\n大家加油喔👊'"
   ]
  },
  {
   "cell_type": "code",
   "execution_count": 13,
   "metadata": {
    "collapsed": false,
    "deletable": true,
    "editable": true
   },
   "outputs": [
    {
     "data": {
      "text/plain": [
       "['剛剛要回文時已經找不到了',\n",
       " '總之',\n",
       " '內容就是跟姊姊一起刮卡然後中了205萬',\n",
       " '於是發上來的照片我怎麼看都沒中',\n",
       " '祝大家新年快樂',\n",
       " '也希望大家在刮彩卷之類的東西能夠好好看清楚喔',\n",
       " '以免遇到以為中獎一家人很high',\n",
       " '結果被網友說沒中的哭哭戲碼',\n",
       " '沒有截文章',\n",
       " '截到圖片而已',\n",
       " '大家加油喔']"
      ]
     },
     "execution_count": 13,
     "metadata": {},
     "output_type": "execute_result"
    }
   ],
   "source": [
    "remove_url(test)"
   ]
  },
  {
   "cell_type": "code",
   "execution_count": 28,
   "metadata": {
    "collapsed": false,
    "deletable": true,
    "editable": true
   },
   "outputs": [
    {
     "data": {
      "text/plain": [
       "[Row(content='好酷噢可以按讚XD'),\n",
       " Row(content='大家快來給點建議吧 : )'),\n",
       " Row(content='或用撰寫新文章回應打成長長一篇！'),\n",
       " Row(content='個人覺得喜歡的按鈕功能很惹人煩\\n不需要上個網全世界都要按讚吧QAQ\\n不認為喜歡鈕的新增是個好主意...'),\n",
       " Row(content='https://www.youtube.com/watch?v=JAjXKnFoaZI\\n\\n2014臺大畢業季主題曲「還記得嗎」\\n\\n詞：Crispy脆樂團\\n曲：Skippy\\n\\n這條路我走了四年 總仰望盡頭的藍天\\n兩排的椰子樹就像侍衛 守護著我們的從前\\n總有一天我們要說再見 走入大人的世界\\n倒影在湖面上的時間 又悄悄走了幾圈\\n\\n還記得嗎 對爸媽說我會拿書卷獎\\n在地下室等著迎接曙光\\n看見你的表情和我一樣\\n我笑了吧\\n\\n還記得嗎 鏡子裡整齊劃一的模樣\\n一個人躲在房間練吉他\\n拼了命跟上大家的步伐\\n我大聲唱\\n\"時間不能夠重來 我不要留下一分一秒的空白\"\\n\\n你對我說面對新的生活 有些不安和惶恐\\n是會一飛沖天變成英雄 還是流星般墜落\\n別害怕 相信自己 和那些倔強執著\\n每個人都是一片天空 綻放自己的煙火\\n\\n還記得嗎 一起翹課占領籃球場\\n在宿舍電腦裡釋放魔法\\n在哪裡跌倒哪裡受了傷\\n我不會怕\\n\\n還記得嗎 一起走在圖書館的長廊\\n在耳邊小小聲說著夢想\\n空無一人的椰林大道上\\n我大聲唱\\n\"想要改變全世界 這裡就是我們的 起點\"\\n\\n還記得嗎 第一次遇見她的地方\\n牽著手散步在舟山路上\\n不再去在意別人的眼光\\n我吻了她\\n\\n還記得嗎 對鏡子告訴自己要堅強\\n不管未來會在哪個地方\\n在人擠人的畢業舞會上\\n換上西裝\\n\"人生不需要100分 能和你們一起走過就值得\"'),\n",
       " Row(content='(轉stupidclown)\\n我的朋友是外地人，第一次來台北坐捷運，怕搭錯方向，就問了一個在月台上的媽媽。\\n他問：請問是往永寧嗎？\\n媽媽回：不好意思你認錯人了。\\n\\n\\n難道不是都會這樣嗎QQ'),\n",
       " Row(content='考前體悟到系上分三種人\\n\\n上完課就懂\\n\\n考前懵懵懂懂\\n\\n從來都不懂\\n\\n第三種人會隨年級數減少\\n\\n\\n\\n\\n\\n\\n\\n\\n\\n\\n\\n\\n不是因為進級 而是因為更加認識自己'),\n",
       " Row(content='想請問一下大家有沒有推薦哪一首歌的歌詞是你特別有感觸的\\n\\n因為我期末報告想往歌詞這方面做(雖然好像還太早XD)\\n\\n如果要私心推薦很多首我也沒意見啦XDD\\n\\n然後寫一下你為什麼喜歡吧感恩 ~'),\n",
       " Row(content='在宿舍感覺很孤單，有時候很想家...\\n有甚麼辦法解決嗎... 很困擾...'),\n",
       " Row(content='我這裡拜連續都是異性\\n只有一個沒有加到\\n\\n但.是.\\n一個都沒有聊\\n只有之前的一位有在回信\\n\\n是不該加 還是....?\\n\\n大家留著之後會心血來潮想寫一下信給對方嗎?\\n\\nBTW\\n我長得很像九把刀\\n所以不要說人帥真好\\n我覺得我只是運氣好遇到心很善良的同學QQ')]"
      ]
     },
     "execution_count": 28,
     "metadata": {},
     "output_type": "execute_result"
    }
   ],
   "source": [
    "content_rdd.take(10)"
   ]
  },
  {
   "cell_type": "code",
   "execution_count": 30,
   "metadata": {
    "collapsed": false,
    "deletable": true,
    "editable": true
   },
   "outputs": [],
   "source": [
    "result = content_rdd.map(lambda s: remove_url(s['content'])).collect()\n"
   ]
  },
  {
   "cell_type": "code",
   "execution_count": null,
   "metadata": {
    "collapsed": false,
    "deletable": true,
    "editable": true
   },
   "outputs": [],
   "source": []
  },
  {
   "cell_type": "code",
   "execution_count": 31,
   "metadata": {
    "collapsed": false,
    "deletable": true,
    "editable": true,
    "scrolled": true
   },
   "outputs": [
    {
     "data": {
      "text/plain": [
       "[['好酷噢可以按讚XD'],\n",
       " ['大家快來給點建議吧'],\n",
       " ['或用撰寫新文章回應打成長長一篇'],\n",
       " ['個人覺得喜歡的按鈕功能很惹人煩', '不需要上個網全世界都要按讚吧QAQ', '不認為喜歡鈕的新增是個好主意'],\n",
       " ['2014臺大畢業季主題曲',\n",
       "  '還記得嗎',\n",
       "  '詞',\n",
       "  'Crispy脆樂團',\n",
       "  '曲',\n",
       "  'Skippy',\n",
       "  '這條路我走了四年',\n",
       "  '總仰望盡頭的藍天',\n",
       "  '兩排的椰子樹就像侍衛',\n",
       "  '守護著我們的從前',\n",
       "  '總有一天我們要說再見',\n",
       "  '走入大人的世界',\n",
       "  '倒影在湖面上的時間',\n",
       "  '又悄悄走了幾圈',\n",
       "  '還記得嗎',\n",
       "  '對爸媽說我會拿書卷獎',\n",
       "  '在地下室等著迎接曙光',\n",
       "  '看見你的表情和我一樣',\n",
       "  '我笑了吧',\n",
       "  '還記得嗎',\n",
       "  '鏡子裡整齊劃一的模樣',\n",
       "  '一個人躲在房間練吉他',\n",
       "  '拼了命跟上大家的步伐',\n",
       "  '我大聲唱',\n",
       "  '時間不能夠重來',\n",
       "  '我不要留下一分一秒的空白',\n",
       "  '你對我說面對新的生活',\n",
       "  '有些不安和惶恐',\n",
       "  '是會一飛沖天變成英雄',\n",
       "  '還是流星般墜落',\n",
       "  '別害怕',\n",
       "  '相信自己',\n",
       "  '和那些倔強執著',\n",
       "  '每個人都是一片天空',\n",
       "  '綻放自己的煙火',\n",
       "  '還記得嗎',\n",
       "  '一起翹課占領籃球場',\n",
       "  '在宿舍電腦裡釋放魔法',\n",
       "  '在哪裡跌倒哪裡受了傷',\n",
       "  '我不會怕',\n",
       "  '還記得嗎',\n",
       "  '一起走在圖書館的長廊',\n",
       "  '在耳邊小小聲說著夢想',\n",
       "  '空無一人的椰林大道上',\n",
       "  '我大聲唱',\n",
       "  '想要改變全世界',\n",
       "  '這裡就是我們的',\n",
       "  '起點',\n",
       "  '還記得嗎',\n",
       "  '第一次遇見她的地方',\n",
       "  '牽著手散步在舟山路上',\n",
       "  '不再去在意別人的眼光',\n",
       "  '我吻了她',\n",
       "  '還記得嗎',\n",
       "  '對鏡子告訴自己要堅強',\n",
       "  '不管未來會在哪個地方',\n",
       "  '在人擠人的畢業舞會上',\n",
       "  '換上西裝',\n",
       "  '人生不需要100分',\n",
       "  '能和你們一起走過就值得'],\n",
       " ['轉stupidclown',\n",
       "  '我的朋友是外地人',\n",
       "  '第一次來台北坐捷運',\n",
       "  '怕搭錯方向',\n",
       "  '就問了一個在月台上的媽媽',\n",
       "  '他問',\n",
       "  '請問是往永寧嗎',\n",
       "  '媽媽回',\n",
       "  '不好意思你認錯人了',\n",
       "  '難道不是都會這樣嗎QQ'],\n",
       " ['考前體悟到系上分三種人',\n",
       "  '上完課就懂',\n",
       "  '考前懵懵懂懂',\n",
       "  '從來都不懂',\n",
       "  '第三種人會隨年級數減少',\n",
       "  '不是因為進級',\n",
       "  '而是因為更加認識自己'],\n",
       " ['想請問一下大家有沒有推薦哪一首歌的歌詞是你特別有感觸的',\n",
       "  '因為我期末報告想往歌詞這方面做',\n",
       "  '雖然好像還太早XD',\n",
       "  '如果要私心推薦很多首我也沒意見啦XDD',\n",
       "  '然後寫一下你為什麼喜歡吧感恩'],\n",
       " ['在宿舍感覺很孤單', '有時候很想家', '有甚麼辦法解決嗎', '很困擾'],\n",
       " ['我這裡拜連續都是異性',\n",
       "  '只有一個沒有加到',\n",
       "  '但',\n",
       "  '是',\n",
       "  '一個都沒有聊',\n",
       "  '只有之前的一位有在回信',\n",
       "  '是不該加',\n",
       "  '還是',\n",
       "  '大家留著之後會心血來潮想寫一下信給對方嗎',\n",
       "  'BTW',\n",
       "  '我長得很像九把刀',\n",
       "  '所以不要說人帥真好',\n",
       "  '我覺得我只是運氣好遇到心很善良的同學QQ']]"
      ]
     },
     "execution_count": 31,
     "metadata": {},
     "output_type": "execute_result"
    }
   ],
   "source": [
    "result[:10]"
   ]
  },
  {
   "cell_type": "code",
   "execution_count": 37,
   "metadata": {
    "collapsed": true,
    "deletable": true,
    "editable": true
   },
   "outputs": [],
   "source": [
    "def to_ngrams(unigrams, length):\n",
    "    return zip(*[unigrams[i:] for i in range(length)])"
   ]
  },
  {
   "cell_type": "code",
   "execution_count": 46,
   "metadata": {
    "collapsed": false,
    "deletable": true,
    "editable": true,
    "scrolled": true
   },
   "outputs": [],
   "source": [
    "# compute unigram and bigram count\n",
    "unigram_counter = Counter()\n",
    "bigram_counter = Counter()\n",
    "trigram_counter = Counter()\n",
    "\n",
    "for post in result:\n",
    "    for line in post:\n",
    "        unigram_counter.update(line)\n",
    "        bigram_counter.update(to_ngrams(line, 2))\n",
    "        trigram_counter.update(to_ngrams(line, 3))"
   ]
  },
  {
   "cell_type": "code",
   "execution_count": 48,
   "metadata": {
    "collapsed": false
   },
   "outputs": [
    {
     "name": "stdout",
     "output_type": "stream",
     "text": [
      "[('的', 543687), ('我', 347812), ('是', 329005), ('不', 252695), ('一', 239275), ('有', 237782), ('了', 172307), ('人', 143985), ('在', 137319), ('到', 124767)]\n",
      "[(('沒', '有'), 43618), (('什', '麼'), 41772), (('可', '以'), 39754), (('一', '個'), 37991), (('自', '己'), 37321), (('知', '道'), 36272), (('大', '家'), 35983), (('覺', '得'), 34301), (('因', '為'), 33830), (('真', '的'), 32435)]\n",
      "[(('不', '知', '道'), 18466), (('的', '時', '候'), 15026), (('有', '沒', '有'), 13611), (('_', '_', '_'), 13133), (('為', '什', '麼'), 9418), (('自', '己', '的'), 8194), (('哈', '哈', '哈'), 7108), (('我', '覺', '得'), 6325), (('是', '不', '是'), 6131), (('真', '的', '很'), 6026)]\n"
     ]
    }
   ],
   "source": [
    "print(unigram_counter.most_common(10))\n",
    "print(bigram_counter.most_common(10))\n",
    "print(trigram_counter.most_common(10))\n"
   ]
  },
  {
   "cell_type": "code",
   "execution_count": null,
   "metadata": {
    "collapsed": true
   },
   "outputs": [],
   "source": []
  }
 ],
 "metadata": {
  "kernelspec": {
   "display_name": "Python 3",
   "language": "python",
   "name": "python3"
  },
  "language_info": {
   "codemirror_mode": {
    "name": "ipython",
    "version": 3
   },
   "file_extension": ".py",
   "mimetype": "text/x-python",
   "name": "python",
   "nbconvert_exporter": "python",
   "pygments_lexer": "ipython3",
   "version": "3.5.3"
  }
 },
 "nbformat": 4,
 "nbformat_minor": 2
}
