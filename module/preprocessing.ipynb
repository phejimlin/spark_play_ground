{
 "cells": [
  {
   "cell_type": "code",
   "execution_count": 1,
   "metadata": {
    "collapsed": false,
    "deletable": true,
    "editable": true
   },
   "outputs": [],
   "source": [
    "import re\n",
    "import operator\n",
    "from collections import Counter\n",
    "from pyspark import SparkContext\n",
    "SparkContext.setSystemProperty('spark.executor.memory', '16g')\n",
    "SparkContext.setSystemProperty('spark.executor.extraJavaOptions', '-verbose:gc -XX:-PrintGCDetails -XX:+PrintGCTimeStamps')\n",
    "sc = SparkContext(\"local[*]\", 'dcard')"
   ]
  },
  {
   "cell_type": "code",
   "execution_count": 2,
   "metadata": {
    "collapsed": true,
    "deletable": true,
    "editable": true
   },
   "outputs": [],
   "source": [
    "from pyspark.sql import SparkSession\n",
    "import sys\n",
    "my_spark = SparkSession \\\n",
    "    .builder \\\n",
    "    .appName(\"dcard\") \\\n",
    "    .config(\"spark.mongodb.input.uri\", \"mongodb://192.168.2.12:27017/dcard.talk_posts\") \\\n",
    "    .config(\"spark.mongodb.output.uri\", \"mongodb://192.168.2.12:27017/dcard.talk_posts\") \\\n",
    "    .getOrCreate()"
   ]
  },
  {
   "cell_type": "code",
   "execution_count": 3,
   "metadata": {
    "collapsed": true,
    "deletable": true,
    "editable": true
   },
   "outputs": [],
   "source": [
    "df = my_spark.read.format(\"com.mongodb.spark.sql.DefaultSource\").load()"
   ]
  },
  {
   "cell_type": "code",
   "execution_count": 4,
   "metadata": {
    "collapsed": true,
    "deletable": true,
    "editable": true
   },
   "outputs": [],
   "source": [
    "from pyspark.accumulators import AccumulatorParam"
   ]
  },
  {
   "cell_type": "code",
   "execution_count": 5,
   "metadata": {
    "collapsed": false,
    "deletable": true,
    "editable": true
   },
   "outputs": [
    {
     "name": "stdout",
     "output_type": "stream",
     "text": [
      "root\n",
      " |-- _id: integer (nullable = true)\n",
      " |-- anonymousDepartment: boolean (nullable = true)\n",
      " |-- anonymousSchool: boolean (nullable = true)\n",
      " |-- commentCount: integer (nullable = true)\n",
      " |-- content: string (nullable = true)\n",
      " |-- createdAt: string (nullable = true)\n",
      " |-- department: string (nullable = true)\n",
      " |-- excerpt: string (nullable = true)\n",
      " |-- forumAlias: string (nullable = true)\n",
      " |-- forumId: string (nullable = true)\n",
      " |-- forumName: string (nullable = true)\n",
      " |-- gender: string (nullable = true)\n",
      " |-- hidden: boolean (nullable = true)\n",
      " |-- hiddenByAuthor: boolean (nullable = true)\n",
      " |-- likeCount: integer (nullable = true)\n",
      " |-- media: array (nullable = true)\n",
      " |    |-- element: struct (containsNull = true)\n",
      " |    |    |-- url: string (nullable = true)\n",
      " |-- pinned: boolean (nullable = true)\n",
      " |-- replyId: integer (nullable = true)\n",
      " |-- replyTitle: string (nullable = true)\n",
      " |-- reportReason: string (nullable = true)\n",
      " |-- school: string (nullable = true)\n",
      " |-- tags: array (nullable = true)\n",
      " |    |-- element: string (containsNull = true)\n",
      " |-- title: string (nullable = true)\n",
      " |-- updatedAt: string (nullable = true)\n",
      " |-- withNickname: boolean (nullable = true)\n",
      "\n"
     ]
    }
   ],
   "source": [
    "df.printSchema()"
   ]
  },
  {
   "cell_type": "code",
   "execution_count": 6,
   "metadata": {
    "collapsed": false,
    "deletable": true,
    "editable": true,
    "scrolled": true
   },
   "outputs": [
    {
     "name": "stdout",
     "output_type": "stream",
     "text": [
      "+-----------+-----+\n",
      "|     school|count|\n",
      "+-----------+-----+\n",
      "|       新堡大學|    9|\n",
      "| 國立高雄海洋科技大學|   42|\n",
      "|        屏科大|  446|\n",
      "|      亞當森大學|    1|\n",
      "|       格魯斯特|    1|\n",
      "| 國立臺南護理專科學校|   22|\n",
      "|     香港浸會大學|    1|\n",
      "|    love♏的♎|    1|\n",
      "|         七七|    1|\n",
      "|   Ladycaca|    1|\n",
      "|       伊比爾喬|    1|\n",
      "|      理論型情聖|    1|\n",
      "|        OwO|    1|\n",
      "|💸挖壕溝的女子嘟🔨|    1|\n",
      "|         米米|    1|\n",
      "|     142小女紙|    2|\n",
      "|        紅心K|    1|\n",
      "|       新鮮な肝|    1|\n",
      "|       米蘭大學|    2|\n",
      "|  倫敦大學伯貝克學院|    1|\n",
      "+-----------+-----+\n",
      "only showing top 20 rows\n",
      "\n"
     ]
    }
   ],
   "source": [
    "df.groupBy(\"school\").count().show()"
   ]
  },
  {
   "cell_type": "code",
   "execution_count": 7,
   "metadata": {
    "collapsed": false,
    "deletable": true,
    "editable": true,
    "scrolled": true
   },
   "outputs": [
    {
     "data": {
      "text/plain": [
       "[Row(_id=6150, anonymousDepartment=False, anonymousSchool=False, commentCount=19, content='好酷噢可以按讚XD', createdAt='2014-04-10T08:16:24.673Z', department='資訊工程學系', excerpt='好酷噢可以按讚XD', forumAlias='talk', forumId='255fd275-fec2-49d2-8e46-2e1557ffaeb0', forumName='閒聊', gender='M', hidden=False, hiddenByAuthor=False, likeCount=82, media=[], pinned=False, replyId=None, replyTitle='null', reportReason='', school='淡江大學', tags=[], title='新功能耶！', updatedAt='2014-04-10T08:16:24.673Z', withNickname=None),\n",
       " Row(_id=6151, anonymousDepartment=False, anonymousSchool=False, commentCount=60, content='大家快來給點建議吧 : )', createdAt='2014-04-10T09:15:11.945Z', department=' ', excerpt='大家快來給點建議吧 : )', forumAlias='talk', forumId='255fd275-fec2-49d2-8e46-2e1557ffaeb0', forumName='閒聊', gender='D', hidden=False, hiddenByAuthor=False, likeCount=18, media=[], pinned=False, replyId=None, replyTitle='null', reportReason='', school='狄卡', tags=[], title='新版建議', updatedAt='2014-04-10T09:15:11.945Z', withNickname=None),\n",
       " Row(_id=6152, anonymousDepartment=False, anonymousSchool=False, commentCount=6, content='或用撰寫新文章回應打成長長一篇！', createdAt='2014-04-10T09:40:02.307Z', department='資訊管理學系', excerpt='或用撰寫新文章回應打成長長一篇！', forumAlias='talk', forumId='255fd275-fec2-49d2-8e46-2e1557ffaeb0', forumName='閒聊', gender='M', hidden=False, hiddenByAuthor=False, likeCount=5, media=[], pinned=False, replyId=6151, replyTitle='新版建議', reportReason='', school='國立臺灣大學', tags=[], title='Re: 新版建議', updatedAt='2014-04-10T09:40:02.307Z', withNickname=None),\n",
       " Row(_id=6171, anonymousDepartment=False, anonymousSchool=False, commentCount=20, content='個人覺得喜歡的按鈕功能很惹人煩\\n不需要上個網全世界都要按讚吧QAQ\\n不認為喜歡鈕的新增是個好主意...', createdAt='2014-04-12T13:36:16.320Z', department='地球科學系', excerpt='個人覺得喜歡的按鈕功能很惹人煩\\n不需要上個網全世界都要按讚吧QAQ\\n不認為喜歡鈕的新增是個好主意...', forumAlias='talk', forumId='255fd275-fec2-49d2-8e46-2e1557ffaeb0', forumName='閒聊', gender='M', hidden=False, hiddenByAuthor=False, likeCount=27, media=[], pinned=False, replyId=None, replyTitle='null', reportReason='', school='中央大學', tags=[], title='拜託不要越來越像臉書...', updatedAt='2014-04-12T13:36:16.320Z', withNickname=None),\n",
       " Row(_id=6181, anonymousDepartment=False, anonymousSchool=False, commentCount=4, content='https://www.youtube.com/watch?v=JAjXKnFoaZI\\n\\n2014臺大畢業季主題曲「還記得嗎」\\n\\n詞：Crispy脆樂團\\n曲：Skippy\\n\\n這條路我走了四年 總仰望盡頭的藍天\\n兩排的椰子樹就像侍衛 守護著我們的從前\\n總有一天我們要說再見 走入大人的世界\\n倒影在湖面上的時間 又悄悄走了幾圈\\n\\n還記得嗎 對爸媽說我會拿書卷獎\\n在地下室等著迎接曙光\\n看見你的表情和我一樣\\n我笑了吧\\n\\n還記得嗎 鏡子裡整齊劃一的模樣\\n一個人躲在房間練吉他\\n拼了命跟上大家的步伐\\n我大聲唱\\n\"時間不能夠重來 我不要留下一分一秒的空白\"\\n\\n你對我說面對新的生活 有些不安和惶恐\\n是會一飛沖天變成英雄 還是流星般墜落\\n別害怕 相信自己 和那些倔強執著\\n每個人都是一片天空 綻放自己的煙火\\n\\n還記得嗎 一起翹課占領籃球場\\n在宿舍電腦裡釋放魔法\\n在哪裡跌倒哪裡受了傷\\n我不會怕\\n\\n還記得嗎 一起走在圖書館的長廊\\n在耳邊小小聲說著夢想\\n空無一人的椰林大道上\\n我大聲唱\\n\"想要改變全世界 這裡就是我們的 起點\"\\n\\n還記得嗎 第一次遇見她的地方\\n牽著手散步在舟山路上\\n不再去在意別人的眼光\\n我吻了她\\n\\n還記得嗎 對鏡子告訴自己要堅強\\n不管未來會在哪個地方\\n在人擠人的畢業舞會上\\n換上西裝\\n\"人生不需要100分 能和你們一起走過就值得\"', createdAt='2014-04-13T03:30:48.722Z', department=' ', excerpt='https://www.youtube.com/watch?v=JAjXKnFoaZI\\n\\n2014臺大畢業季主題曲「還記得嗎」\\n\\n詞：Crispy脆樂團\\n曲：Skippy\\n\\n這條路我走了四年 總仰望盡', forumAlias='talk', forumId='255fd275-fec2-49d2-8e46-2e1557ffaeb0', forumName='閒聊', gender='D', hidden=False, hiddenByAuthor=False, likeCount=26, media=[], pinned=False, replyId=None, replyTitle='null', reportReason='', school='狄卡', tags=[], title='2014臺大畢業季主題曲「還記得嗎」MV', updatedAt='2014-04-13T03:30:48.722Z', withNickname=None)]"
      ]
     },
     "execution_count": 7,
     "metadata": {},
     "output_type": "execute_result"
    }
   ],
   "source": [
    "df.take(5)"
   ]
  },
  {
   "cell_type": "code",
   "execution_count": 8,
   "metadata": {
    "collapsed": false,
    "deletable": true,
    "editable": true
   },
   "outputs": [
    {
     "name": "stdout",
     "output_type": "stream",
     "text": [
      "3\n"
     ]
    }
   ],
   "source": [
    "content = df.select('content')\n",
    "print(content.rdd.getNumPartitions())\n",
    "content_rdd = content.rdd.repartition(16).cache()\n"
   ]
  },
  {
   "cell_type": "code",
   "execution_count": 9,
   "metadata": {
    "collapsed": false,
    "deletable": true,
    "editable": true
   },
   "outputs": [
    {
     "data": {
      "text/plain": [
       "16"
      ]
     },
     "execution_count": 9,
     "metadata": {},
     "output_type": "execute_result"
    }
   ],
   "source": [
    "content_rdd.getNumPartitions()\n"
   ]
  },
  {
   "cell_type": "code",
   "execution_count": 10,
   "metadata": {
    "collapsed": false,
    "deletable": true,
    "editable": true
   },
   "outputs": [
    {
     "name": "stdout",
     "output_type": "stream",
     "text": [
      "81525\n"
     ]
    }
   ],
   "source": [
    "lineLengths = content_rdd.map(lambda s: len(s))\n",
    "totalLength = lineLengths.reduce(lambda a, b: a + b)\n",
    "print(totalLength)"
   ]
  },
  {
   "cell_type": "code",
   "execution_count": 11,
   "metadata": {
    "collapsed": true,
    "deletable": true,
    "editable": true
   },
   "outputs": [],
   "source": [
    "def remove_url_and_punctuation(sentence):\n",
    "    # remove url\n",
    "    if 'http' in sentence:\n",
    "        sentence = re.sub(r'^https?:\\/\\/.*[\\r\\n]*', '', sentence, flags=re.MULTILINE)\n",
    "\n",
    "    # remove punctuation\n",
    "    text_list = re.split('\\W+', sentence)\n",
    "    return list(filter(None, text_list))\n",
    "\n",
    "def to_ngrams(unigrams, length):\n",
    "    return Counter(zip(*[unigrams[i:] for i in range(length)]))"
   ]
  },
  {
   "cell_type": "code",
   "execution_count": 12,
   "metadata": {
    "collapsed": true,
    "deletable": true,
    "editable": true
   },
   "outputs": [],
   "source": [
    "test = '🤔剛剛要回文時已經找不到了\\n總之，內容就是跟姊姊一起刮卡然後中了205萬，於是發上來的照片我怎麼看都沒中😂。\\n\\n祝大家新年快樂，也希望大家在刮彩卷之類的東西能夠好好看清楚喔🙌，以免遇到以為中獎一家人很high，結果被網友說沒中的哭哭戲碼。\\nhttps://i.imgur.com/Svbg4BF.jpg\\n沒有截文章 截到圖片而已\\n\\n大家加油喔👊'"
   ]
  },
  {
   "cell_type": "code",
   "execution_count": 13,
   "metadata": {
    "collapsed": false,
    "deletable": true,
    "editable": true
   },
   "outputs": [
    {
     "data": {
      "text/plain": [
       "['剛剛要回文時已經找不到了',\n",
       " '總之',\n",
       " '內容就是跟姊姊一起刮卡然後中了205萬',\n",
       " '於是發上來的照片我怎麼看都沒中',\n",
       " '祝大家新年快樂',\n",
       " '也希望大家在刮彩卷之類的東西能夠好好看清楚喔',\n",
       " '以免遇到以為中獎一家人很high',\n",
       " '結果被網友說沒中的哭哭戲碼',\n",
       " '沒有截文章',\n",
       " '截到圖片而已',\n",
       " '大家加油喔']"
      ]
     },
     "execution_count": 13,
     "metadata": {},
     "output_type": "execute_result"
    }
   ],
   "source": [
    "remove_url_and_punctuation(test)"
   ]
  },
  {
   "cell_type": "code",
   "execution_count": 14,
   "metadata": {
    "collapsed": false,
    "deletable": true,
    "editable": true
   },
   "outputs": [],
   "source": [
    "result = content_rdd.map(lambda a: remove_url_and_punctuation(a['content'])).collect()"
   ]
  },
  {
   "cell_type": "code",
   "execution_count": 15,
   "metadata": {
    "collapsed": false,
    "deletable": true,
    "editable": true
   },
   "outputs": [
    {
     "data": {
      "text/plain": [
       "[['呃', '忘了當初選的選項', '想要知道的話可以顯示嗎', '我猜線在是不行', '要改了系統才能吧'],\n",
       " ['有時候難得遇到認識的人其實很高興', '不過因為太久沒看到', '不知道要說什麼', '所以就快步離開了', '大家都有這樣的經驗嗎'],\n",
       " ['感覺淡江的同學好多阿', '抽到好多都是淡江的', '好友也都是'],\n",
       " ['學校即將舉行耶誕舞會',\n",
       "  '我已經向六個女生邀請她們當我舞伴',\n",
       "  '但是都被拒絕',\n",
       "  '我很難過',\n",
       "  '我無法再承受任何打擊',\n",
       "  '我心理系同學對我說',\n",
       "  '不要難過',\n",
       "  '遇到任何困難',\n",
       "  '可以隨時找她談談',\n",
       "  '我很感動',\n",
       "  '於是我問她',\n",
       "  '你可以當我舞伴嗎',\n",
       "  '她對我說',\n",
       "  '你現在累積到7個了',\n",
       "  '我還要去找第八個嗎'],\n",
       " ['摩立特集團聲請破產保護前',\n",
       "  '公司內部的高薪顧問為何不用波特著名的',\n",
       "  '競爭五力分析法',\n",
       "  '來自救',\n",
       "  '是因為策略無效',\n",
       "  '還是因為世界已經改變',\n",
       "  '但公司卻未能調適',\n",
       "  '波特一九七九年在哈佛商業評論發表的文章中指出',\n",
       "  '產業內的競爭情勢',\n",
       "  '繫於五種基本力量',\n",
       "  '新進者的威脅',\n",
       "  '替代性產品的威脅',\n",
       "  '供應商的議價能力',\n",
       "  '顧客的議價能力及產業內部的競爭對手',\n",
       "  '而由合力來決定產業最終的獲利潛力',\n",
       "  '富比世雜誌指出',\n",
       "  '他的理論植基於',\n",
       "  '寡占',\n",
       "  '理論',\n",
       "  '企業的策略目標是為了擊敗對手',\n",
       "  '而非對客戶提供加值',\n",
       "  '企業要想持續獲得超額利潤',\n",
       "  '必須避免競爭',\n",
       "  '並找出結構性的障礙',\n",
       "  '來保護既有的超額利潤',\n",
       "  '富比世指出',\n",
       "  '然而企業的競爭並非戰爭',\n",
       "  '未必要對手失敗才能造就本身的成功',\n",
       "  '就如同藝術表演一樣',\n",
       "  '藝術家可以各自尋找自己的觀眾',\n",
       "  '至於波特最重視的結構性障礙',\n",
       "  '近廿年來由於全球化及網路風',\n",
       "  '已經吹垮了大部分障礙',\n",
       "  '市場改由客戶當家做主',\n",
       "  '富比世強調',\n",
       "  '今天企業已不再靠擊敗對手',\n",
       "  '並以結構性障礙來保護自己免於競爭',\n",
       "  '而必須不斷創新來為客戶提供加值',\n",
       "  '找到新方法來討客戶歡心',\n",
       "  '例如蘋果',\n",
       "  '亞馬遜',\n",
       "  '好市多等',\n",
       "  '都是典型',\n",
       "  '面對這種新世界',\n",
       "  '摩立特主張靠產業結構來追求永續性競爭優勢的作法',\n",
       "  '已經不符實際',\n",
       "  '到二',\n",
       "  '八年金融危機爆發',\n",
       "  '大企業不願意也無力再支付高額的顧問費',\n",
       "  '富比世在結論中指出',\n",
       "  '摩立特並非是被',\n",
       "  '競爭五力',\n",
       "  '的對手殺死',\n",
       "  '而是因為客戶不再願意花錢買摩立特的那一套',\n",
       "  '摩立特只死於',\n",
       "  '一力',\n",
       "  '就是客戶',\n",
       "  '記者陳宛茜',\n",
       "  '台北報導',\n",
       "  '競爭策略大師麥可波特傳出公司倒閉消息',\n",
       "  '出版其多本著作的天下文化副總編輯余宜芳表示',\n",
       "  '天下尚未收到這個消息',\n",
       "  '不做任何評論',\n",
       "  '全文網址',\n",
       "  'http',\n",
       "  'udn',\n",
       "  'com',\n",
       "  'NEWS',\n",
       "  'WORLD',\n",
       "  'WORS1',\n",
       "  '7515699',\n",
       "  'shtml',\n",
       "  'ixzz2Cw60HI8d'],\n",
       " ['我從9',\n",
       "  '30玩Dcard到現在',\n",
       "  '系統大概只配給我5個女生左右',\n",
       "  '其他都男生',\n",
       "  '我每天都有上線看',\n",
       "  '而學校有則是有90',\n",
       "  '都是台大',\n",
       "  '其他就政大',\n",
       "  '中央',\n",
       "  '從來沒出現過其他學校',\n",
       "  '請問有沒有Dcard配對系統的八卦'],\n",
       " ['基本上大家認證都是用學校信箱',\n",
       "  '可是畢業後學校信箱不是也會消失',\n",
       "  '那這樣的話還可以繼續用Dcard嗎',\n",
       "  '還是Dcard就是只限定大學及研究所的學生彼此之間做交流',\n",
       "  '畢業後就要跟這個有趣的系統說掰掰',\n",
       "  'OAQ',\n",
       "  '我只是沒有找到相關的公告說明',\n",
       "  '所以有點疑問罷了',\n",
       "  '如果有相關的說明麻煩告訴我唷',\n",
       "  '謝謝'],\n",
       " ['我自己平常都是在看一下通知',\n",
       "  '回訊息',\n",
       "  '然後逛逛二手買賣的社團XD',\n",
       "  '然後就關掉了',\n",
       "  '_',\n",
       "  '很好奇大家平常都是在facebook上面做什麼'],\n",
       " ['今日Dcard',\n",
       "  '當拆開Dcard卻沒有人的時候',\n",
       "  '可能是連三天沒拆Dcard',\n",
       "  '或剛註冊',\n",
       "  '所以Dcard才沒有出現',\n",
       "  '當你拆開Dcard之後',\n",
       "  '當天午夜降臨時',\n",
       "  'Dcard就會出現',\n",
       "  '有時候',\n",
       "  '我一打開DCARD',\n",
       "  '他就跑出這樣的訊息',\n",
       "  '我該怎麼辦',\n",
       "  '我已經都乖乖每天開DCARD了',\n",
       "  '怎麼還是這樣',\n",
       "  '你們會有同樣情形嗎'],\n",
       " ['現在功能好像有點少', '雖然現在這樣也不錯', '但好奇問問看大家的意見']]"
      ]
     },
     "execution_count": 15,
     "metadata": {},
     "output_type": "execute_result"
    }
   ],
   "source": [
    "result[:10]"
   ]
  },
  {
   "cell_type": "code",
   "execution_count": 16,
   "metadata": {
    "collapsed": false,
    "deletable": true,
    "editable": true,
    "scrolled": true
   },
   "outputs": [
    {
     "name": "stdout",
     "output_type": "stream",
     "text": [
      "86.7028558254242\n"
     ]
    }
   ],
   "source": [
    "# compute unigram and bigram count\n",
    "import time\n",
    "\n",
    "start = time.time()\n",
    "\n",
    "unigram_counter = Counter()\n",
    "bigram_counter = Counter()\n",
    "trigram_counter = Counter()\n",
    "\n",
    "result = content_rdd.map(lambda a: remove_url_and_punctuation(a['content'])).collect()\n",
    "\n",
    "for post in result:\n",
    "    for line in post:\n",
    "        unigram_counter.update(line)\n",
    "        bigram_counter.update(to_ngrams(line, 2))\n",
    "        trigram_counter.update(to_ngrams(line, 3))\n",
    "\n",
    "end = time.time()\n",
    "print(end - start)"
   ]
  },
  {
   "cell_type": "code",
   "execution_count": 17,
   "metadata": {
    "collapsed": false,
    "deletable": true,
    "editable": true
   },
   "outputs": [
    {
     "name": "stdout",
     "output_type": "stream",
     "text": [
      "[('的', 555099), ('我', 355158), ('是', 336459), ('不', 258394), ('一', 244268), ('有', 243204), ('了', 175677), ('人', 147487), ('在', 140291), ('到', 127480)]\n",
      "[(('沒', '有'), 44665), (('什', '麼'), 42757), (('可', '以'), 40622), (('一', '個'), 38825), (('自', '己'), 38156), (('知', '道'), 37185), (('大', '家'), 36739), (('覺', '得'), 35108), (('因', '為'), 34636), (('真', '的'), 33222)]\n",
      "[(('不', '知', '道'), 18889), (('的', '時', '候'), 15378), (('有', '沒', '有'), 13913), (('_', '_', '_'), 13161), (('為', '什', '麼'), 9674), (('自', '己', '的'), 8391), (('哈', '哈', '哈'), 7241), (('我', '覺', '得'), 6488), (('是', '不', '是'), 6298), (('真', '的', '很'), 6167)]\n"
     ]
    }
   ],
   "source": [
    "print(unigram_counter.most_common(10))\n",
    "print(bigram_counter.most_common(10))\n",
    "print(trigram_counter.most_common(10))\n"
   ]
  },
  {
   "cell_type": "code",
   "execution_count": null,
   "metadata": {
    "collapsed": false,
    "deletable": true,
    "editable": true
   },
   "outputs": [],
   "source": []
  },
  {
   "cell_type": "code",
   "execution_count": 18,
   "metadata": {
    "collapsed": false,
    "deletable": true,
    "editable": true,
    "scrolled": true
   },
   "outputs": [],
   "source": [
    "def one_to_three_grams(line):\n",
    "    print(line)\n",
    "    result = (Counter(line), to_ngrams(line, 2), to_ngrams(line, 3))\n",
    "    print(len(result[0]), len(result[1]), len(result[2]))\n",
    "    return result\n",
    "#     return (Counter(line), to_ngrams(line, 2), to_ngrams(line, 3))"
   ]
  },
  {
   "cell_type": "code",
   "execution_count": 19,
   "metadata": {
    "collapsed": false,
    "deletable": true,
    "editable": true
   },
   "outputs": [
    {
     "name": "stdout",
     "output_type": "stream",
     "text": [
      "[Row(content='🤔🤔\\n聽說今年在屏東某地的潮X高中\\n全國繁星第一 (110人)\\n但只有46個人上國立\\n難道這就是所謂有學校就讀的概念嗎?\\n\\n還有據說繁星進大學的 都蠻優秀的\\n是這樣嗎？')]\n"
     ]
    },
    {
     "data": {
      "text/plain": [
       "['聽說今年在屏東某地的潮X高中',\n",
       " '全國繁星第一',\n",
       " '110人',\n",
       " '但只有46個人上國立',\n",
       " '難道這就是所謂有學校就讀的概念嗎',\n",
       " '還有據說繁星進大學的',\n",
       " '都蠻優秀的',\n",
       " '是這樣嗎']"
      ]
     },
     "execution_count": 19,
     "metadata": {},
     "output_type": "execute_result"
    }
   ],
   "source": [
    "print(content_rdd.top(1))\n",
    "remove_url_and_punctuation(content_rdd.top(1)[0]['content'])"
   ]
  },
  {
   "cell_type": "code",
   "execution_count": 20,
   "metadata": {
    "collapsed": false,
    "deletable": true,
    "editable": true
   },
   "outputs": [
    {
     "name": "stdout",
     "output_type": "stream",
     "text": [
      "16168912\n"
     ]
    }
   ],
   "source": [
    "lineLengths = content_rdd.flatMap(lambda s: remove_url_and_punctuation(s['content'])).map(lambda s: len(s))\n",
    "totalLength = lineLengths.reduce(lambda a, b: a + b)\n",
    "print(totalLength)"
   ]
  },
  {
   "cell_type": "code",
   "execution_count": 21,
   "metadata": {
    "collapsed": false,
    "deletable": true,
    "editable": true
   },
   "outputs": [],
   "source": [
    "# import time\n",
    "# sec = int(round(time.time()))\n",
    "# print(sec)\n",
    "# sample_rdd = content_rdd.sample(False, 0.01, sec)"
   ]
  },
  {
   "cell_type": "code",
   "execution_count": 22,
   "metadata": {
    "collapsed": false,
    "deletable": true,
    "editable": true
   },
   "outputs": [],
   "source": [
    "# result = content_rdd.flatMap(lambda s: remove_url_and_punctuation(s['content'])).map(lambda line: one_to_three_grams(line)).reduce(lambda a, b: tuple(map(operator.add, a, b)))\n",
    "\n",
    "# result[0].most_common(10)"
   ]
  },
  {
   "cell_type": "code",
   "execution_count": 23,
   "metadata": {
    "collapsed": false,
    "deletable": true,
    "editable": true
   },
   "outputs": [],
   "source": [
    "# result_one_grams = content_rdd.flatMap(lambda s: remove_url_and_punctuation(s['content'])).map(lambda s: Counter(s)).reduce(lambda a,b: a + b)\n",
    "\n",
    "# result_one_grams.most_common(10)"
   ]
  },
  {
   "cell_type": "code",
   "execution_count": 24,
   "metadata": {
    "collapsed": true,
    "deletable": true,
    "editable": true
   },
   "outputs": [],
   "source": [
    "# # Utilizing spark Accumulator to calculate n-grams.\n",
    "# list_data = content_rdd.flatMap(lambda a: remove_url(a['content'])).collect()\n",
    "# result_list = sc.parallelize(list_data)\n",
    "# result_list.top(10)\n",
    "\n",
    "# class CounterAccumulatorParam(AccumulatorParam):\n",
    "#     def zero(self, initialValue):\n",
    "#         return initialValue\n",
    "\n",
    "#     def addInPlace(self, v1, v2):\n",
    "#         v1 += v2\n",
    "#         return v1\n",
    "\n",
    "# # Then, create an Accumulator of this type:\n",
    "# one_gram_accum = sc.accumulator(Counter(), CounterAccumulatorParam())\n",
    "# two_gram_accum = sc.accumulator(Counter(), CounterAccumulatorParam())\n",
    "# three_gram_accum = sc.accumulator(Counter(), CounterAccumulatorParam())\n",
    "\n",
    "# def one_to_three_grams_accum(line):\n",
    "#     one_gram_accum.add(Counter(line))\n",
    "#     two_gram_accum.add(to_ngrams(line, 2))\n",
    "#     three_gram_accum.add(to_ngrams(line, 3))\n",
    "\n",
    "# result_list.foreach(lambda line: one_to_three_grams_accum(line))\n",
    "\n",
    "# one_gram_accum.value.most_common(10)\n",
    "\n",
    "# two_gram_accum.value.most_common(10)\n",
    "\n",
    "# three_gram_accum.value.most_common(10)"
   ]
  },
  {
   "cell_type": "markdown",
   "metadata": {
    "deletable": true,
    "editable": true
   },
   "source": [
    " # Good-Turing Smoothing Language Model"
   ]
  },
  {
   "cell_type": "code",
   "execution_count": 25,
   "metadata": {
    "collapsed": false,
    "deletable": true,
    "editable": true
   },
   "outputs": [],
   "source": [
    "V1 = content_rdd.flatMap(lambda s: remove_url_and_punctuation(s['content'])).map(lambda s: len(s)).reduce(lambda a, b: a + b)\n",
    "V2 = V1 ** 2\n",
    "k = 10"
   ]
  },
  {
   "cell_type": "code",
   "execution_count": 26,
   "metadata": {
    "collapsed": false,
    "deletable": true,
    "editable": true
   },
   "outputs": [
    {
     "name": "stdout",
     "output_type": "stream",
     "text": [
      "16161360 261433714466032\n"
     ]
    }
   ],
   "source": [
    "from math import log10\n",
    "# compute N1, N2, N3...\n",
    "unigram_Nr = Counter(unigram_counter.values())\n",
    "bigram_Nr = Counter(bigram_counter.values())\n",
    "# compute N0\n",
    "unigram_Nr[0] = V1 - len(unigram_counter)\n",
    "bigram_Nr[0] = V2 - len(bigram_counter)\n",
    "print(unigram_Nr[0], bigram_Nr[0])"
   ]
  },
  {
   "cell_type": "code",
   "execution_count": 27,
   "metadata": {
    "collapsed": false,
    "deletable": true,
    "editable": true
   },
   "outputs": [
    {
     "name": "stdout",
     "output_type": "stream",
     "text": [
      "[6.732106703891256e-05, 1.0202205882352942, 1.6486486486486487, 3.2918032786885245, 3.545816733067729, 5.595505617977528, 5.271084337349397, 7.424, 8.53448275862069, 9.272727272727273]\n",
      "[1.4023478216985474e-09, 0.6473060735746179, 1.5708928180147987, 2.515120789274621, 3.5128493908057745, 4.4934421451471875, 5.45295777388597, 6.3883094985324425, 7.3410495034018926, 8.641418983700863]\n"
     ]
    }
   ],
   "source": [
    "# compute r\n",
    "unigram_r = [(i+1) * unigram_Nr[i+1] / unigram_Nr[i] for i in range(k)]\n",
    "bigram_r = [(i+1) * bigram_Nr[i+1] / bigram_Nr[i] for i in range(k)]\n",
    "print(unigram_r)\n",
    "print(bigram_r)"
   ]
  },
  {
   "cell_type": "code",
   "execution_count": 28,
   "metadata": {
    "collapsed": false,
    "deletable": true,
    "editable": true
   },
   "outputs": [
    {
     "name": "stdout",
     "output_type": "stream",
     "text": [
      "16168912 14297453\n"
     ]
    }
   ],
   "source": [
    "# compute normalize factor\n",
    "# compute N\n",
    "unigram_N = sum(unigram_counter.values())\n",
    "bigram_N = sum(bigram_counter.values())\n",
    "print(unigram_N, bigram_N)"
   ]
  },
  {
   "cell_type": "code",
   "execution_count": 29,
   "metadata": {
    "collapsed": false,
    "deletable": true,
    "editable": true
   },
   "outputs": [
    {
     "name": "stdout",
     "output_type": "stream",
     "text": [
      "16169932 14387583\n"
     ]
    }
   ],
   "source": [
    "# compute new probability sum\n",
    "unigram_N_ = unigram_N + k * unigram_Nr[k]\n",
    "bigram_N_ = bigram_N + k * bigram_Nr[k]\n",
    "print(unigram_N_, bigram_N_)"
   ]
  },
  {
   "cell_type": "code",
   "execution_count": 30,
   "metadata": {
    "collapsed": false,
    "deletable": true,
    "editable": true
   },
   "outputs": [
    {
     "name": "stdout",
     "output_type": "stream",
     "text": [
      "0.9999369199573629 0.9937355704568307\n"
     ]
    }
   ],
   "source": [
    "# normalize factor: N/N’\n",
    "unigram_norm_factor = unigram_N / unigram_N_\n",
    "bigram_norm_factor = bigram_N / bigram_N_\n",
    "print(unigram_norm_factor, bigram_norm_factor)"
   ]
  },
  {
   "cell_type": "code",
   "execution_count": 31,
   "metadata": {
    "collapsed": true,
    "deletable": true,
    "editable": true
   },
   "outputs": [],
   "source": [
    "# Estimating P(w) and P(w’|w)\n",
    "def prob_1word(unigram):\n",
    "    count = unigram_counter[unigram]\n",
    "    r = unigram_r[count] if count < k else count\n",
    "    return log10(r / unigram_N_)\n",
    "def prob_2words(text_front, text_rear):\n",
    "    count = bigram_counter[text_front, text_rear]\n",
    "    r = bigram_r[count] if count < k else count\n",
    "    return log10(r / bigram_N_)\n",
    "def prob_word_by_word(text_front, text_rear):\n",
    "    return prob_2words(text_front, text_rear) - prob_1word(text_front)\n",
    "def prob_words(words):\n",
    "    return prob_1word(words[0]) + sum(prob_word_by_word(words[i-1], words[i]) for i in range(1, len(words)))\n",
    "def prob_text(text):\n",
    "    return prob_words(text.lower().split())"
   ]
  },
  {
   "cell_type": "code",
   "execution_count": 66,
   "metadata": {
    "collapsed": false,
    "deletable": true,
    "editable": true
   },
   "outputs": [
    {
     "name": "stdout",
     "output_type": "stream",
     "text": [
      "-3.3656623830213768\n",
      "-5.24417398964687\n",
      "-1.8612119932022284\n"
     ]
    }
   ],
   "source": [
    "print(prob_1word('清'))\n",
    "print(prob_2words('清','華'))\n",
    "print(prob_word_by_word('我','很'))"
   ]
  },
  {
   "cell_type": "code",
   "execution_count": 33,
   "metadata": {
    "collapsed": false,
    "deletable": true,
    "editable": true
   },
   "outputs": [],
   "source": [
    "unicount_log = {k: log10(v) for k, v in unigram_counter.items()}\n",
    "bicount_log = {k: log10(v) for k, v in bigram_counter.items()}\n",
    "unigram_r_log = [log10(r) for r in unigram_r]\n",
    "bigram_r_log = [log10(r) for r in bigram_r]\n",
    "unigram_N_log = log10(unigram_N_)\n",
    "bigram_N_log = log10(bigram_N_)\n",
    "\n",
    "\n",
    "def prob_1word(unigram):\n",
    "    count = unigram_counter[unigram]\n",
    "    r = unigram_r_log[count] if count < k else unicount_log[unigram]\n",
    "    return r - unigram_N_log\n",
    "def prob_2words(text_front, text_rear):\n",
    "    count = bigram_counter[text_front, text_rear]\n",
    "    r = bigram_r_log[count] if count < k else bicount_log[text_front, text_rear]\n",
    "    return r - bigram_N_log"
   ]
  },
  {
   "cell_type": "code",
   "execution_count": 67,
   "metadata": {
    "collapsed": false,
    "deletable": true,
    "editable": true
   },
   "outputs": [
    {
     "name": "stdout",
     "output_type": "stream",
     "text": [
      "-3.3656623830213768\n",
      "-3.7733416869432848\n",
      "-5.24417398964687\n",
      "-1.8785116066254934\n"
     ]
    }
   ],
   "source": [
    "print(prob_1word(u'清'))\n",
    "print(prob_1word(u'華'))\n",
    "print(prob_2words(u'清', u'華'))\n",
    "print(prob_word_by_word(u'清',u'華'))"
   ]
  },
  {
   "cell_type": "code",
   "execution_count": 76,
   "metadata": {
    "collapsed": false,
    "deletable": true,
    "editable": true
   },
   "outputs": [],
   "source": [
    "import math\n",
    "# N_unigram_corpus = math.log2(float(sum(unigram_counter.values())))\n",
    "# N_bigram_corpus = math.log2(float(sum(bigram_counter.values())))\n",
    "def pmi(words):\n",
    "    word1 = words[0]\n",
    "    word2 = words[1]\n",
    "    # Good-Turing Estimation 將次數小於k的字做一些調整 目標不要讓沒出現過的字 機率為0\n",
    "    count_word1 = unigram_counter[word1]\n",
    "    r_word1 = unigram_r_log[count_word1] if count_word1 < k else unicount_log[word1]\n",
    "    count_word2 = unigram_counter[word2]\n",
    "    r_word2 = unigram_r_log[count_word2] if count_word2 < k else unicount_log[word2]\n",
    "    count_word1_and_word2 = bigram_counter[(word1, word2)]\n",
    "    r_word1_and_word2 = bigram_r_log[count_word1_and_word2] if count_word1_and_word2 < k else bicount_log[(word1, word2)]\n",
    "\n",
    "    # mutual information algorithm\n",
    "    prob_word1 = r_word1 - unigram_N_log\n",
    "    prob_word2 = r_word2 -  unigram_N_log\n",
    "    prob_word1_word2 = r_word1_and_word2 -  bigram_N_log\n",
    "    return prob_word1_word2 - (prob_word1+prob_word2)"
   ]
  },
  {
   "cell_type": "code",
   "execution_count": 77,
   "metadata": {
    "collapsed": false,
    "deletable": true,
    "editable": true
   },
   "outputs": [
    {
     "name": "stdout",
     "output_type": "stream",
     "text": [
      "-8.291553511361858\n",
      "0.7102270735757452\n",
      "1.5498605236084844\n",
      "2.577196006409019\n",
      "0.6475047860715808\n"
     ]
    }
   ],
   "source": [
    "print(pmi((u'聰', u'思')))\n",
    "print(pmi((u'很',u'開')))\n",
    "print(pmi((u'開', u'心')))\n",
    "print(pmi((u'吃', u'飯')))\n",
    "print(pmi((u'我', u'弟')))"
   ]
  },
  {
   "cell_type": "code",
   "execution_count": 89,
   "metadata": {
    "collapsed": false,
    "deletable": true,
    "editable": true
   },
   "outputs": [],
   "source": [
    "import operator\n",
    "\n",
    "def word_segmentation(sentence):\n",
    "    # input : 忘了當初選的選項\n",
    "    words_list = to_words(sentence, 2)\n",
    "    max_probability_dict = find_max_prob(to_prob_dict(words_list))\n",
    "    return seperate_sentence(sentence, max_probability_dict)\n",
    "\n",
    "\n",
    "def to_words(unigrams, length):\n",
    "    return list(zip(*[unigrams[i:] for i in range(length)]))\n",
    "\n",
    "\n",
    "def to_prob_dict(words_list):\n",
    "#   input : [('忘', '了'), ('了', '當'), ('當', '初'), ('初', '選'), ('選', '的'), ('的', '選'), ('選', '項')]\n",
    "    result_sentence = {}\n",
    "    for word in words_list:\n",
    "        result_sentence[word] = pmi(word)\n",
    "    return result_sentence\n",
    "\n",
    "\n",
    "def find_max_prob(probability_dict):\n",
    "    threshold = 0.5\n",
    "    sorted_prob = sorted(probability_dict.items(), key=operator.itemgetter(1), reverse=True)\n",
    "    print(sorted_prob)  # Can see every candidate words prob.\n",
    "    result_list = []\n",
    "    for candidate in sorted_prob:\n",
    "        prob = candidate[1]\n",
    "        words_tuple = candidate[0]\n",
    "        if prob > threshold:\n",
    "            result_list.append(''.join(map(str, words_tuple)))  # ('選', '項') => 選項\n",
    "    return result_list\n",
    "\n",
    "\n",
    "def seperate_sentence(orginal_sentence, max_probability_dict):\n",
    "    segment_word = orginal_sentence\n",
    "    for candidate in max_probability_dict:\n",
    "        insert_word = \" \"+candidate+\" \"\n",
    "        segment_word = segment_word.replace(candidate, insert_word)\n",
    "    return segment_word"
   ]
  },
  {
   "cell_type": "code",
   "execution_count": 90,
   "metadata": {
    "collapsed": false,
    "deletable": true,
    "editable": true
   },
   "outputs": [
    {
     "name": "stdout",
     "output_type": "stream",
     "text": [
      "[(('邀', '請'), 2.7377469706616395), (('已', '經'), 2.616439494768189), (('舞', '伴'), 2.372406293195432), (('女', '生'), 1.9376363810795398), (('她', '們'), 1.1372047738830324), (('個', '女'), 0.9856825965816585), (('六', '個'), 0.9582880721092568), (('我', '已'), 0.6326799837011312), (('請', '她'), 0.4579079118711089), (('當', '我'), 0.41783700297367954), (('們', '當'), 0.23328336551896012), (('生', '邀'), -0.09065874418841524), (('向', '六'), -0.18860153138347435), (('經', '向'), -0.26773190071805963), (('我', '舞'), -0.996158227432633)]\n",
      "我 已經 向 六個  女生  邀請  她們 當我 舞伴 \n"
     ]
    }
   ],
   "source": [
    "test = word_segmentation(u'我已經向六個女生邀請她們當我舞伴')\n",
    "print(test)"
   ]
  },
  {
   "cell_type": "code",
   "execution_count": 91,
   "metadata": {
    "collapsed": true,
    "deletable": true,
    "editable": true
   },
   "outputs": [],
   "source": [
    "total_lines = content_rdd.flatMap(lambda s: remove_url_and_punctuation(s['content'])).collect()"
   ]
  },
  {
   "cell_type": "code",
   "execution_count": 93,
   "metadata": {
    "collapsed": false,
    "deletable": true,
    "editable": true
   },
   "outputs": [
    {
     "name": "stdout",
     "output_type": "stream",
     "text": [
      "供應商的議價能力\n",
      "[(('能', '力'), 1.6685670230815473), (('供', '應'), 1.5496545873803456), (('議', '價'), 0.7948979770876985), (('應', '商'), 0.5847347903222362), (('的', '議'), 0.05783033568889451), (('商', '的'), -0.009587630864118957), (('價', '能'), -0.8891515584214131)]\n",
      " 供應 商的 議價  能力 \n",
      "\n",
      "顧客的議價能力及產業內部的競爭對手\n",
      "[(('競', '爭'), 3.6490206048028764), (('顧', '客'), 2.276043214517113), (('產', '業'), 2.1451360753349187), (('能', '力'), 1.6685670230815473), (('內', '部'), 1.4001566132006324), (('議', '價'), 0.7948979770876985), (('的', '競'), 0.6567804575461791), (('爭', '對'), 0.6426456929905022), (('及', '產'), 0.6111592116394231), (('力', '及'), 0.5450525776318056), (('對', '手'), 0.47596881563711513), (('部', '的'), 0.2987359486950636), (('業', '內'), 0.2658487676083485), (('的', '議'), 0.05783033568889451), (('客', '的'), -0.08960679760762069), (('價', '能'), -0.8891515584214131)]\n",
      " 顧客 的 議價  能力 及 產業  內部 的 競爭 對手\n",
      "\n",
      "而由合力來決定產業最終的獲利潛力\n",
      "[(('決', '定'), 2.633020547529234), (('獲', '利'), 2.300566157151798), (('潛', '力'), 2.210778917179651), (('產', '業'), 2.1451360753349187), (('最', '終'), 1.5505475968536402), (('利', '潛'), 0.6072121308522975), (('來', '決'), 0.4843245256560511), (('由', '合'), 0.18622159152413964), (('定', '產'), 0.164613313526508), (('合', '力'), 0.07118211287931064), (('的', '獲'), -0.08245426345548079), (('業', '最'), -0.14053576232190146), (('而', '由'), -0.16299744077813383), (('力', '來'), -0.2264629728742742), (('終', '的'), -0.5948795162383043)]\n",
      "而由合力來 決定  產業  最終 的 獲利  潛力 \n",
      "\n",
      "富比世雜誌指出\n",
      "[(('雜', '誌'), 3.779369417554733), (('指', '出'), 1.1644725046334639), (('富', '比'), 0.7187471492035638), (('誌', '指'), 0.5003484701121748), (('比', '世'), 0.34757173177997913), (('世', '雜'), 0.04369559194994643)]\n",
      " 富比 世 雜誌  指出 \n",
      "\n",
      "他的理論植基於\n",
      "[(('基', '於'), 1.728136005904915), (('理', '論'), 1.6727643256026283), (('植', '基'), 1.1457003906828938), (('論', '植'), 0.5086816609171638), (('他', '的'), 0.38737450603564705), (('的', '理'), 0.21491437243692157)]\n",
      "他的 理論 植 基於 \n",
      "\n",
      "寡占\n",
      "[(('寡', '占'), 2.2468488602032126)]\n",
      " 寡占 \n",
      "\n",
      "理論\n",
      "[(('理', '論'), 1.6727643256026283)]\n",
      " 理論 \n",
      "\n",
      "企業的策略目標是為了擊敗對手\n",
      "[(('策', '略'), 3.4813993279099504), (('企', '業'), 2.895986160915373), (('目', '標'), 2.533609015036383), (('擊', '敗'), 2.3655336863377023), (('為', '了'), 0.8597441769516156), (('業', '的'), 0.4890370624983804), (('對', '手'), 0.47596881563711513), (('的', '策'), 0.3418718317094873), (('是', '為'), 0.15720054263572658), (('敗', '對'), 0.15392284303816517), (('標', '是'), 0.11188254976761858), (('略', '目'), -0.11964699112604205), (('了', '擊'), -1.4508682082832633)]\n",
      " 企業 的 策略  目標 是 為了  擊敗 對手\n",
      "\n",
      "而非對客戶提供加值\n",
      "[(('提', '供'), 3.175140775232209), (('客', '戶'), 2.377584665016675), (('加', '值'), 1.193897178839121), (('而', '非'), 0.9998353356318113), (('戶', '提'), 0.5608218430480543), (('非', '對'), 0.28891318099186414), (('對', '客'), 0.210523462876119), (('供', '加'), 0.05646286954136137)]\n",
      " 而非 對 客戶  提供  加值 \n",
      "\n",
      "企業要想持續獲得超額利潤\n",
      "[(('企', '業'), 2.895986160915373), (('利', '潤'), 2.766951157710965), (('持', '續'), 2.561692204641971), (('獲', '得'), 2.2542006338474723), (('得', '超'), 1.0092972134657128), (('額', '利'), 0.8627750810351715), (('續', '獲'), 0.8279577449800479), (('超', '額'), 0.567833607929364), (('業', '要'), -0.08835351078923193), (('要', '想'), -0.20666183877200162), (('想', '持'), -0.9114551046992823)]\n",
      " 企業 要想 持續  獲得  超額  利潤 \n",
      "\n"
     ]
    }
   ],
   "source": [
    "for sentence in total_lines[40:50]:\n",
    "    print(sentence)\n",
    "    print(word_segmentation(sentence))\n",
    "    print()"
   ]
  },
  {
   "cell_type": "code",
   "execution_count": 49,
   "metadata": {
    "collapsed": false,
    "deletable": true,
    "editable": true
   },
   "outputs": [],
   "source": [
    "def partial_match(word, counter):\n",
    "    new_counter = Counter()\n",
    "    for key, value in counter.most_common():\n",
    "        if all(k1 == k2 or k2 is None for k1, k2 in zip(key, word)):\n",
    "            new_counter[key] = value\n",
    "    return new_counter\n"
   ]
  },
  {
   "cell_type": "code",
   "execution_count": 50,
   "metadata": {
    "collapsed": false,
    "deletable": true,
    "editable": true
   },
   "outputs": [],
   "source": [
    "one_match = partial_match((u'沒', None), bigram_counter)\n",
    "two_match = partial_match((u'沒', u'有', None), trigram_counter)"
   ]
  },
  {
   "cell_type": "code",
   "execution_count": 51,
   "metadata": {
    "collapsed": false,
    "deletable": true,
    "editable": true
   },
   "outputs": [
    {
     "data": {
      "text/plain": [
       "[(('沒', '有'), 44665),\n",
       " (('沒', '什'), 2285),\n",
       " (('沒', '想'), 2201),\n",
       " (('沒', '辦'), 2084),\n",
       " (('沒', '人'), 1754),\n",
       " (('沒', '看'), 1645),\n",
       " (('沒', '關'), 1577),\n",
       " (('沒', '事'), 1472),\n",
       " (('沒', '錯'), 1344),\n",
       " (('沒', '多'), 864)]"
      ]
     },
     "execution_count": 51,
     "metadata": {},
     "output_type": "execute_result"
    }
   ],
   "source": [
    "one_match.most_common(10)"
   ]
  },
  {
   "cell_type": "code",
   "execution_count": 52,
   "metadata": {
    "collapsed": false,
    "deletable": true,
    "editable": true
   },
   "outputs": [
    {
     "data": {
      "text/plain": [
       "[(('沒', '有', '人'), 4607),\n",
       " (('沒', '有', '什'), 1272),\n",
       " (('沒', '有', '推'), 838),\n",
       " (('沒', '有', '這'), 832),\n",
       " (('沒', '有', '很'), 806),\n",
       " (('沒', '有', '要'), 713),\n",
       " (('沒', '有', '一'), 705),\n",
       " (('沒', '有', '想'), 627),\n",
       " (('沒', '有', '任'), 504),\n",
       " (('沒', '有', '看'), 494)]"
      ]
     },
     "execution_count": 52,
     "metadata": {},
     "output_type": "execute_result"
    }
   ],
   "source": [
    "two_match.most_common(10)"
   ]
  },
  {
   "cell_type": "code",
   "execution_count": null,
   "metadata": {
    "collapsed": true,
    "deletable": true,
    "editable": true
   },
   "outputs": [],
   "source": []
  }
 ],
 "metadata": {
  "kernelspec": {
   "display_name": "Python 3",
   "language": "python",
   "name": "python3"
  },
  "language_info": {
   "codemirror_mode": {
    "name": "ipython",
    "version": 3
   },
   "file_extension": ".py",
   "mimetype": "text/x-python",
   "name": "python",
   "nbconvert_exporter": "python",
   "pygments_lexer": "ipython3",
   "version": "3.5.3"
  }
 },
 "nbformat": 4,
 "nbformat_minor": 2
}
