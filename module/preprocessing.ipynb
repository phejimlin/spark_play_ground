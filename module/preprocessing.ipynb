{
 "cells": [
  {
   "cell_type": "code",
   "execution_count": 1,
   "metadata": {
    "collapsed": false,
    "deletable": true,
    "editable": true
   },
   "outputs": [],
   "source": [
    "import re\n",
    "import operator\n",
    "from collections import Counter\n",
    "from pyspark import SparkContext\n",
    "SparkContext.setSystemProperty('spark.executor.memory', '24g')\n",
    "SparkContext.setSystemProperty('spark.executor.extraJavaOptions', '-verbose:gc -XX:-PrintGCDetails -XX:+PrintGCTimeStamps')\n",
    "sc = SparkContext(\"local[*]\", 'dcard')"
   ]
  },
  {
   "cell_type": "code",
   "execution_count": 2,
   "metadata": {
    "collapsed": false,
    "deletable": true,
    "editable": true
   },
   "outputs": [],
   "source": [
    "from pyspark.sql import SparkSession\n",
    "import sys\n",
    "my_spark = SparkSession \\\n",
    "    .builder \\\n",
    "    .appName(\"dcard\") \\\n",
    "    .config(\"spark.mongodb.input.uri\", \"mongodb://192.168.2.12:27017/dcard.talk_posts\") \\\n",
    "    .config(\"spark.mongodb.output.uri\", \"mongodb://192.168.2.12:27017/dcard.talk_posts\") \\\n",
    "    .getOrCreate()"
   ]
  },
  {
   "cell_type": "code",
   "execution_count": 3,
   "metadata": {
    "collapsed": true,
    "deletable": true,
    "editable": true
   },
   "outputs": [],
   "source": [
    "df = my_spark.read.format(\"com.mongodb.spark.sql.DefaultSource\").load()"
   ]
  },
  {
   "cell_type": "code",
   "execution_count": 4,
   "metadata": {
    "collapsed": true,
    "deletable": true,
    "editable": true
   },
   "outputs": [],
   "source": [
    "from pyspark.accumulators import AccumulatorParam"
   ]
  },
  {
   "cell_type": "code",
   "execution_count": 5,
   "metadata": {
    "collapsed": false,
    "deletable": true,
    "editable": true
   },
   "outputs": [
    {
     "name": "stdout",
     "output_type": "stream",
     "text": [
      "root\n",
      " |-- _id: integer (nullable = true)\n",
      " |-- anonymousDepartment: boolean (nullable = true)\n",
      " |-- anonymousSchool: boolean (nullable = true)\n",
      " |-- commentCount: integer (nullable = true)\n",
      " |-- content: string (nullable = true)\n",
      " |-- createdAt: string (nullable = true)\n",
      " |-- department: string (nullable = true)\n",
      " |-- excerpt: string (nullable = true)\n",
      " |-- forumAlias: string (nullable = true)\n",
      " |-- forumId: string (nullable = true)\n",
      " |-- forumName: string (nullable = true)\n",
      " |-- gender: string (nullable = true)\n",
      " |-- hidden: boolean (nullable = true)\n",
      " |-- hiddenByAuthor: boolean (nullable = true)\n",
      " |-- likeCount: integer (nullable = true)\n",
      " |-- media: array (nullable = true)\n",
      " |    |-- element: struct (containsNull = true)\n",
      " |    |    |-- url: string (nullable = true)\n",
      " |-- pinned: boolean (nullable = true)\n",
      " |-- replyId: integer (nullable = true)\n",
      " |-- replyTitle: string (nullable = true)\n",
      " |-- reportReason: string (nullable = true)\n",
      " |-- school: string (nullable = true)\n",
      " |-- tags: array (nullable = true)\n",
      " |    |-- element: string (containsNull = true)\n",
      " |-- title: string (nullable = true)\n",
      " |-- updatedAt: string (nullable = true)\n",
      " |-- withNickname: boolean (nullable = true)\n",
      "\n"
     ]
    }
   ],
   "source": [
    "df.printSchema()"
   ]
  },
  {
   "cell_type": "code",
   "execution_count": 6,
   "metadata": {
    "collapsed": false,
    "deletable": true,
    "editable": true,
    "scrolled": true
   },
   "outputs": [
    {
     "name": "stdout",
     "output_type": "stream",
     "text": [
      "+-----------+-----+\n",
      "|     school|count|\n",
      "+-----------+-----+\n",
      "|       新堡大學|    9|\n",
      "| 國立高雄海洋科技大學|   42|\n",
      "|        屏科大|  446|\n",
      "|      亞當森大學|    1|\n",
      "|       格魯斯特|    1|\n",
      "| 國立臺南護理專科學校|   22|\n",
      "|     香港浸會大學|    1|\n",
      "|    love♏的♎|    1|\n",
      "|         七七|    1|\n",
      "|   Ladycaca|    1|\n",
      "|       伊比爾喬|    1|\n",
      "|      理論型情聖|    1|\n",
      "|        OwO|    1|\n",
      "|💸挖壕溝的女子嘟🔨|    1|\n",
      "|         米米|    1|\n",
      "|     142小女紙|    2|\n",
      "|        紅心K|    1|\n",
      "|       新鮮な肝|    1|\n",
      "|       米蘭大學|    2|\n",
      "|  倫敦大學伯貝克學院|    1|\n",
      "+-----------+-----+\n",
      "only showing top 20 rows\n",
      "\n"
     ]
    }
   ],
   "source": [
    "df.groupBy(\"school\").count().show()"
   ]
  },
  {
   "cell_type": "code",
   "execution_count": 7,
   "metadata": {
    "collapsed": false,
    "deletable": true,
    "editable": true,
    "scrolled": true
   },
   "outputs": [
    {
     "data": {
      "text/plain": [
       "[Row(_id=6150, anonymousDepartment=False, anonymousSchool=False, commentCount=19, content='好酷噢可以按讚XD', createdAt='2014-04-10T08:16:24.673Z', department='資訊工程學系', excerpt='好酷噢可以按讚XD', forumAlias='talk', forumId='255fd275-fec2-49d2-8e46-2e1557ffaeb0', forumName='閒聊', gender='M', hidden=False, hiddenByAuthor=False, likeCount=82, media=[], pinned=False, replyId=None, replyTitle='null', reportReason='', school='淡江大學', tags=[], title='新功能耶！', updatedAt='2014-04-10T08:16:24.673Z', withNickname=None),\n",
       " Row(_id=6151, anonymousDepartment=False, anonymousSchool=False, commentCount=60, content='大家快來給點建議吧 : )', createdAt='2014-04-10T09:15:11.945Z', department=' ', excerpt='大家快來給點建議吧 : )', forumAlias='talk', forumId='255fd275-fec2-49d2-8e46-2e1557ffaeb0', forumName='閒聊', gender='D', hidden=False, hiddenByAuthor=False, likeCount=18, media=[], pinned=False, replyId=None, replyTitle='null', reportReason='', school='狄卡', tags=[], title='新版建議', updatedAt='2014-04-10T09:15:11.945Z', withNickname=None),\n",
       " Row(_id=6152, anonymousDepartment=False, anonymousSchool=False, commentCount=6, content='或用撰寫新文章回應打成長長一篇！', createdAt='2014-04-10T09:40:02.307Z', department='資訊管理學系', excerpt='或用撰寫新文章回應打成長長一篇！', forumAlias='talk', forumId='255fd275-fec2-49d2-8e46-2e1557ffaeb0', forumName='閒聊', gender='M', hidden=False, hiddenByAuthor=False, likeCount=5, media=[], pinned=False, replyId=6151, replyTitle='新版建議', reportReason='', school='國立臺灣大學', tags=[], title='Re: 新版建議', updatedAt='2014-04-10T09:40:02.307Z', withNickname=None),\n",
       " Row(_id=6171, anonymousDepartment=False, anonymousSchool=False, commentCount=20, content='個人覺得喜歡的按鈕功能很惹人煩\\n不需要上個網全世界都要按讚吧QAQ\\n不認為喜歡鈕的新增是個好主意...', createdAt='2014-04-12T13:36:16.320Z', department='地球科學系', excerpt='個人覺得喜歡的按鈕功能很惹人煩\\n不需要上個網全世界都要按讚吧QAQ\\n不認為喜歡鈕的新增是個好主意...', forumAlias='talk', forumId='255fd275-fec2-49d2-8e46-2e1557ffaeb0', forumName='閒聊', gender='M', hidden=False, hiddenByAuthor=False, likeCount=27, media=[], pinned=False, replyId=None, replyTitle='null', reportReason='', school='中央大學', tags=[], title='拜託不要越來越像臉書...', updatedAt='2014-04-12T13:36:16.320Z', withNickname=None),\n",
       " Row(_id=6181, anonymousDepartment=False, anonymousSchool=False, commentCount=4, content='https://www.youtube.com/watch?v=JAjXKnFoaZI\\n\\n2014臺大畢業季主題曲「還記得嗎」\\n\\n詞：Crispy脆樂團\\n曲：Skippy\\n\\n這條路我走了四年 總仰望盡頭的藍天\\n兩排的椰子樹就像侍衛 守護著我們的從前\\n總有一天我們要說再見 走入大人的世界\\n倒影在湖面上的時間 又悄悄走了幾圈\\n\\n還記得嗎 對爸媽說我會拿書卷獎\\n在地下室等著迎接曙光\\n看見你的表情和我一樣\\n我笑了吧\\n\\n還記得嗎 鏡子裡整齊劃一的模樣\\n一個人躲在房間練吉他\\n拼了命跟上大家的步伐\\n我大聲唱\\n\"時間不能夠重來 我不要留下一分一秒的空白\"\\n\\n你對我說面對新的生活 有些不安和惶恐\\n是會一飛沖天變成英雄 還是流星般墜落\\n別害怕 相信自己 和那些倔強執著\\n每個人都是一片天空 綻放自己的煙火\\n\\n還記得嗎 一起翹課占領籃球場\\n在宿舍電腦裡釋放魔法\\n在哪裡跌倒哪裡受了傷\\n我不會怕\\n\\n還記得嗎 一起走在圖書館的長廊\\n在耳邊小小聲說著夢想\\n空無一人的椰林大道上\\n我大聲唱\\n\"想要改變全世界 這裡就是我們的 起點\"\\n\\n還記得嗎 第一次遇見她的地方\\n牽著手散步在舟山路上\\n不再去在意別人的眼光\\n我吻了她\\n\\n還記得嗎 對鏡子告訴自己要堅強\\n不管未來會在哪個地方\\n在人擠人的畢業舞會上\\n換上西裝\\n\"人生不需要100分 能和你們一起走過就值得\"', createdAt='2014-04-13T03:30:48.722Z', department=' ', excerpt='https://www.youtube.com/watch?v=JAjXKnFoaZI\\n\\n2014臺大畢業季主題曲「還記得嗎」\\n\\n詞：Crispy脆樂團\\n曲：Skippy\\n\\n這條路我走了四年 總仰望盡', forumAlias='talk', forumId='255fd275-fec2-49d2-8e46-2e1557ffaeb0', forumName='閒聊', gender='D', hidden=False, hiddenByAuthor=False, likeCount=26, media=[], pinned=False, replyId=None, replyTitle='null', reportReason='', school='狄卡', tags=[], title='2014臺大畢業季主題曲「還記得嗎」MV', updatedAt='2014-04-13T03:30:48.722Z', withNickname=None)]"
      ]
     },
     "execution_count": 7,
     "metadata": {},
     "output_type": "execute_result"
    }
   ],
   "source": [
    "df.take(5)"
   ]
  },
  {
   "cell_type": "code",
   "execution_count": 8,
   "metadata": {
    "collapsed": false,
    "deletable": true,
    "editable": true
   },
   "outputs": [
    {
     "name": "stdout",
     "output_type": "stream",
     "text": [
      "3\n"
     ]
    }
   ],
   "source": [
    "content = df.select('content')\n",
    "print(content.rdd.getNumPartitions())\n",
    "content_rdd = content.rdd.repartition(16).cache()\n"
   ]
  },
  {
   "cell_type": "code",
   "execution_count": 9,
   "metadata": {
    "collapsed": false,
    "deletable": true,
    "editable": true
   },
   "outputs": [
    {
     "data": {
      "text/plain": [
       "16"
      ]
     },
     "execution_count": 9,
     "metadata": {},
     "output_type": "execute_result"
    }
   ],
   "source": [
    "content_rdd.getNumPartitions()\n"
   ]
  },
  {
   "cell_type": "code",
   "execution_count": 10,
   "metadata": {
    "collapsed": false,
    "deletable": true,
    "editable": true
   },
   "outputs": [
    {
     "name": "stdout",
     "output_type": "stream",
     "text": [
      "81525\n"
     ]
    }
   ],
   "source": [
    "lineLengths = content_rdd.map(lambda s: len(s))\n",
    "totalLength = lineLengths.reduce(lambda a, b: a + b)\n",
    "print(totalLength)"
   ]
  },
  {
   "cell_type": "code",
   "execution_count": 11,
   "metadata": {
    "collapsed": false,
    "deletable": true,
    "editable": true
   },
   "outputs": [],
   "source": [
    "def remove_url_and_punctuation(sentence):\n",
    "    # remove url\n",
    "    if 'http' in sentence:\n",
    "        sentence = re.sub(r'[a-zA-Z0-9_/:.]', '', sentence, flags=re.MULTILINE)\n",
    "\n",
    "    # remove punctuation\n",
    "    text_list = re.split('\\W+', sentence)\n",
    "    return list(filter(None, text_list))\n",
    "\n",
    "def to_ngrams(unigrams, length):\n",
    "    return Counter(zip(*[unigrams[i:] for i in range(length)]))"
   ]
  },
  {
   "cell_type": "code",
   "execution_count": 12,
   "metadata": {
    "collapsed": true,
    "deletable": true,
    "editable": true
   },
   "outputs": [],
   "source": [
    "test = '🤔剛剛要回文時已經找不到了\\n總之，內容就是跟姊姊一起刮卡然後中了205萬，於是發上來的照片我怎麼看都沒中😂。\\n\\n祝大家新年快樂，也希望大家在刮彩卷之類的東西能夠好好看清楚喔🙌，以免遇到以為中獎一家人很high，結果被網友說沒中的哭哭戲碼。\\nhttps://i.imgur.com/Svbg4BF.jpg\\n沒有截文章 截到圖片而已\\n\\n大家加油喔👊'"
   ]
  },
  {
   "cell_type": "code",
   "execution_count": 13,
   "metadata": {
    "collapsed": false,
    "deletable": true,
    "editable": true
   },
   "outputs": [
    {
     "data": {
      "text/plain": [
       "['剛剛要回文時已經找不到了',\n",
       " '總之',\n",
       " '內容就是跟姊姊一起刮卡然後中了萬',\n",
       " '於是發上來的照片我怎麼看都沒中',\n",
       " '祝大家新年快樂',\n",
       " '也希望大家在刮彩卷之類的東西能夠好好看清楚喔',\n",
       " '以免遇到以為中獎一家人很',\n",
       " '結果被網友說沒中的哭哭戲碼',\n",
       " '沒有截文章',\n",
       " '截到圖片而已',\n",
       " '大家加油喔']"
      ]
     },
     "execution_count": 13,
     "metadata": {},
     "output_type": "execute_result"
    }
   ],
   "source": [
    "remove_url_and_punctuation(test)"
   ]
  },
  {
   "cell_type": "code",
   "execution_count": 14,
   "metadata": {
    "collapsed": false,
    "deletable": true,
    "editable": true
   },
   "outputs": [],
   "source": [
    "# result = content_rdd.map(lambda a: remove_url_and_punctuation(a['content'])).collect()"
   ]
  },
  {
   "cell_type": "code",
   "execution_count": 15,
   "metadata": {
    "collapsed": false,
    "deletable": true,
    "editable": true
   },
   "outputs": [],
   "source": [
    "# result[:50]"
   ]
  },
  {
   "cell_type": "code",
   "execution_count": 16,
   "metadata": {
    "collapsed": false,
    "deletable": true,
    "editable": true,
    "scrolled": true
   },
   "outputs": [
    {
     "name": "stdout",
     "output_type": "stream",
     "text": [
      "85.05258798599243\n"
     ]
    }
   ],
   "source": [
    "# compute unigram and bigram count\n",
    "import time\n",
    "\n",
    "start = time.time()\n",
    "\n",
    "unigram_counter = Counter()\n",
    "bigram_counter = Counter()\n",
    "trigram_counter = Counter()\n",
    "\n",
    "result = content_rdd.map(lambda a: remove_url_and_punctuation(a['content'])).collect()\n",
    "\n",
    "for post in result:\n",
    "    for line in post:\n",
    "        unigram_counter.update(line)\n",
    "        bigram_counter.update(to_ngrams(line, 2))\n",
    "        trigram_counter.update(to_ngrams(line, 3))\n",
    "\n",
    "end = time.time()\n",
    "print(end - start)"
   ]
  },
  {
   "cell_type": "code",
   "execution_count": 17,
   "metadata": {
    "collapsed": false,
    "deletable": true,
    "editable": true
   },
   "outputs": [
    {
     "name": "stdout",
     "output_type": "stream",
     "text": [
      "[('的', 555164), ('我', 355176), ('是', 336489), ('不', 258415), ('一', 244291), ('有', 243244), ('了', 175684), ('人', 147514), ('在', 140303), ('到', 127492)]\n",
      "[(('沒', '有'), 44669), (('什', '麼'), 42759), (('可', '以'), 40630), (('一', '個'), 38825), (('自', '己'), 38158), (('知', '道'), 37187), (('大', '家'), 36745), (('覺', '得'), 35109), (('因', '為'), 34636), (('真', '的'), 33224)]\n",
      "[(('不', '知', '道'), 18890), (('的', '時', '候'), 15379), (('有', '沒', '有'), 13914), (('為', '什', '麼'), 9675), (('自', '己', '的'), 8395), (('_', '_', '_'), 7672), (('哈', '哈', '哈'), 7248), (('我', '覺', '得'), 6490), (('是', '不', '是'), 6301), (('真', '的', '很'), 6168)]\n"
     ]
    }
   ],
   "source": [
    "print(unigram_counter.most_common(10))\n",
    "print(bigram_counter.most_common(10))\n",
    "print(trigram_counter.most_common(10))\n"
   ]
  },
  {
   "cell_type": "code",
   "execution_count": null,
   "metadata": {
    "collapsed": false,
    "deletable": true,
    "editable": true
   },
   "outputs": [],
   "source": []
  },
  {
   "cell_type": "code",
   "execution_count": 18,
   "metadata": {
    "collapsed": false,
    "deletable": true,
    "editable": true,
    "scrolled": true
   },
   "outputs": [],
   "source": [
    "def one_to_three_grams(line):\n",
    "    print(line)\n",
    "    result = (Counter(line), to_ngrams(line, 2), to_ngrams(line, 3))\n",
    "    print(len(result[0]), len(result[1]), len(result[2]))\n",
    "    return result\n",
    "#     return (Counter(line), to_ngrams(line, 2), to_ngrams(line, 3))"
   ]
  },
  {
   "cell_type": "code",
   "execution_count": 19,
   "metadata": {
    "collapsed": false,
    "deletable": true,
    "editable": true
   },
   "outputs": [
    {
     "name": "stdout",
     "output_type": "stream",
     "text": [
      "[Row(content='🤔🤔\\n聽說今年在屏東某地的潮X高中\\n全國繁星第一 (110人)\\n但只有46個人上國立\\n難道這就是所謂有學校就讀的概念嗎?\\n\\n還有據說繁星進大學的 都蠻優秀的\\n是這樣嗎？')]\n"
     ]
    },
    {
     "data": {
      "text/plain": [
       "['聽說今年在屏東某地的潮X高中',\n",
       " '全國繁星第一',\n",
       " '110人',\n",
       " '但只有46個人上國立',\n",
       " '難道這就是所謂有學校就讀的概念嗎',\n",
       " '還有據說繁星進大學的',\n",
       " '都蠻優秀的',\n",
       " '是這樣嗎']"
      ]
     },
     "execution_count": 19,
     "metadata": {},
     "output_type": "execute_result"
    }
   ],
   "source": [
    "print(content_rdd.top(1))\n",
    "remove_url_and_punctuation(content_rdd.top(1)[0]['content'])"
   ]
  },
  {
   "cell_type": "code",
   "execution_count": 20,
   "metadata": {
    "collapsed": false,
    "deletable": true,
    "editable": true
   },
   "outputs": [
    {
     "name": "stdout",
     "output_type": "stream",
     "text": [
      "15678028\n"
     ]
    }
   ],
   "source": [
    "lineLengths = content_rdd.flatMap(lambda s: remove_url_and_punctuation(s['content'])).map(lambda s: len(s))\n",
    "totalLength = lineLengths.reduce(lambda a, b: a + b)\n",
    "print(totalLength)"
   ]
  },
  {
   "cell_type": "code",
   "execution_count": 21,
   "metadata": {
    "collapsed": false,
    "deletable": true,
    "editable": true
   },
   "outputs": [],
   "source": [
    "# import time\n",
    "# sec = int(round(time.time()))\n",
    "# print(sec)\n",
    "# sample_rdd = content_rdd.sample(False, 0.01, sec)"
   ]
  },
  {
   "cell_type": "code",
   "execution_count": 22,
   "metadata": {
    "collapsed": false,
    "deletable": true,
    "editable": true
   },
   "outputs": [],
   "source": [
    "# result = content_rdd.flatMap(lambda s: remove_url_and_punctuation(s['content'])).map(lambda line: one_to_three_grams(line)).reduce(lambda a, b: tuple(map(operator.add, a, b)))\n",
    "\n",
    "# result[0].most_common(10)"
   ]
  },
  {
   "cell_type": "code",
   "execution_count": 23,
   "metadata": {
    "collapsed": false,
    "deletable": true,
    "editable": true
   },
   "outputs": [],
   "source": [
    "# result_one_grams = content_rdd.flatMap(lambda s: remove_url_and_punctuation(s['content'])).map(lambda s: Counter(s)).reduce(lambda a,b: a + b)\n",
    "\n",
    "# result_one_grams.most_common(10)"
   ]
  },
  {
   "cell_type": "code",
   "execution_count": 24,
   "metadata": {
    "collapsed": true,
    "deletable": true,
    "editable": true
   },
   "outputs": [],
   "source": [
    "# # Utilizing spark Accumulator to calculate n-grams.\n",
    "# list_data = content_rdd.flatMap(lambda a: remove_url(a['content'])).collect()\n",
    "# result_list = sc.parallelize(list_data)\n",
    "# result_list.top(10)\n",
    "\n",
    "# class CounterAccumulatorParam(AccumulatorParam):\n",
    "#     def zero(self, initialValue):\n",
    "#         return initialValue\n",
    "\n",
    "#     def addInPlace(self, v1, v2):\n",
    "#         v1 += v2\n",
    "#         return v1\n",
    "\n",
    "# # Then, create an Accumulator of this type:\n",
    "# one_gram_accum = sc.accumulator(Counter(), CounterAccumulatorParam())\n",
    "# two_gram_accum = sc.accumulator(Counter(), CounterAccumulatorParam())\n",
    "# three_gram_accum = sc.accumulator(Counter(), CounterAccumulatorParam())\n",
    "\n",
    "# def one_to_three_grams_accum(line):\n",
    "#     one_gram_accum.add(Counter(line))\n",
    "#     two_gram_accum.add(to_ngrams(line, 2))\n",
    "#     three_gram_accum.add(to_ngrams(line, 3))\n",
    "\n",
    "# result_list.foreach(lambda line: one_to_three_grams_accum(line))\n",
    "\n",
    "# one_gram_accum.value.most_common(10)\n",
    "\n",
    "# two_gram_accum.value.most_common(10)\n",
    "\n",
    "# three_gram_accum.value.most_common(10)"
   ]
  },
  {
   "cell_type": "markdown",
   "metadata": {
    "deletable": true,
    "editable": true
   },
   "source": [
    " # Good-Turing Smoothing Language Model"
   ]
  },
  {
   "cell_type": "code",
   "execution_count": 25,
   "metadata": {
    "collapsed": false,
    "deletable": true,
    "editable": true
   },
   "outputs": [],
   "source": [
    "V1 = content_rdd.flatMap(lambda s: remove_url_and_punctuation(s['content'])).map(lambda s: len(s)).reduce(lambda a, b: a + b)\n",
    "V2 = V1 ** 2\n",
    "k = 10"
   ]
  },
  {
   "cell_type": "code",
   "execution_count": 26,
   "metadata": {
    "collapsed": false,
    "deletable": true,
    "editable": true
   },
   "outputs": [
    {
     "name": "stdout",
     "output_type": "stream",
     "text": [
      "15670476 245800561178671\n"
     ]
    }
   ],
   "source": [
    "from math import log10\n",
    "# compute N1, N2, N3...\n",
    "unigram_Nr = Counter(unigram_counter.values())\n",
    "bigram_Nr = Counter(bigram_counter.values())\n",
    "# compute N0\n",
    "unigram_Nr[0] = V1 - len(unigram_counter)\n",
    "bigram_Nr[0] = V2 - len(bigram_counter)\n",
    "print(unigram_Nr[0], bigram_Nr[0])"
   ]
  },
  {
   "cell_type": "code",
   "execution_count": 27,
   "metadata": {
    "collapsed": false,
    "deletable": true,
    "editable": true
   },
   "outputs": [
    {
     "name": "stdout",
     "output_type": "stream",
     "text": [
      "[6.942992669782335e-05, 1.0183823529411764, 1.6570397111913358, 3.281045751633987, 3.545816733067729, 5.52808988764045, 5.378048780487805, 7.428571428571429, 8.461538461538462, 9.272727272727273]\n",
      "[1.48258408464375e-09, 0.6455353712749026, 1.5699225491613036, 2.507757542280636, 3.497926924073594, 4.4898322035781755, 5.4324324324324325, 6.407449929837989, 7.322847813968305, 8.6522462562396]\n"
     ]
    }
   ],
   "source": [
    "# compute r\n",
    "unigram_r = [(i+1) * unigram_Nr[i+1] / unigram_Nr[i] for i in range(k)]\n",
    "bigram_r = [(i+1) * bigram_Nr[i+1] / bigram_Nr[i] for i in range(k)]\n",
    "print(unigram_r)\n",
    "print(bigram_r)"
   ]
  },
  {
   "cell_type": "code",
   "execution_count": 28,
   "metadata": {
    "collapsed": false,
    "deletable": true,
    "editable": true
   },
   "outputs": [
    {
     "name": "stdout",
     "output_type": "stream",
     "text": [
      "15678028 13901455\n"
     ]
    }
   ],
   "source": [
    "# compute normalize factor\n",
    "# compute N\n",
    "unigram_N = sum(unigram_counter.values())\n",
    "bigram_N = sum(bigram_counter.values())\n",
    "print(unigram_N, bigram_N)"
   ]
  },
  {
   "cell_type": "code",
   "execution_count": 29,
   "metadata": {
    "collapsed": false,
    "deletable": true,
    "editable": true
   },
   "outputs": [
    {
     "name": "stdout",
     "output_type": "stream",
     "text": [
      "15679048 13989855\n"
     ]
    }
   ],
   "source": [
    "# compute new probability sum\n",
    "unigram_N_ = unigram_N + k * unigram_Nr[k]\n",
    "bigram_N_ = bigram_N + k * bigram_Nr[k]\n",
    "print(unigram_N_, bigram_N_)"
   ]
  },
  {
   "cell_type": "code",
   "execution_count": 30,
   "metadata": {
    "collapsed": false,
    "deletable": true,
    "editable": true
   },
   "outputs": [
    {
     "name": "stdout",
     "output_type": "stream",
     "text": [
      "0.9999349450298258 0.9936811353655917\n"
     ]
    }
   ],
   "source": [
    "# normalize factor: N/N’\n",
    "unigram_norm_factor = unigram_N / unigram_N_\n",
    "bigram_norm_factor = bigram_N / bigram_N_\n",
    "print(unigram_norm_factor, bigram_norm_factor)"
   ]
  },
  {
   "cell_type": "code",
   "execution_count": 31,
   "metadata": {
    "collapsed": true,
    "deletable": true,
    "editable": true
   },
   "outputs": [],
   "source": [
    "# Estimating P(w) and P(w’|w)\n",
    "def prob_1word(unigram):\n",
    "    count = unigram_counter[unigram]\n",
    "    r = unigram_r[count] if count < k else count\n",
    "    return log10(r / unigram_N_)\n",
    "def prob_2words(text_front, text_rear):\n",
    "    count = bigram_counter[text_front, text_rear]\n",
    "    r = bigram_r[count] if count < k else count\n",
    "    return log10(r / bigram_N_)\n",
    "def prob_word_by_word(text_front, text_rear):\n",
    "    return prob_2words(text_front, text_rear) - prob_1word(text_front)\n",
    "def prob_words(words):\n",
    "    return prob_1word(words[0]) + sum(prob_word_by_word(words[i-1], words[i]) for i in range(1, len(words)))\n",
    "def prob_text(text):\n",
    "    return prob_words(text.lower().split())"
   ]
  },
  {
   "cell_type": "code",
   "execution_count": 32,
   "metadata": {
    "collapsed": false,
    "deletable": true,
    "editable": true
   },
   "outputs": [
    {
     "name": "stdout",
     "output_type": "stream",
     "text": [
      "-3.352024606932168\n",
      "-5.231999360819604\n",
      "-1.8624478784734173\n"
     ]
    }
   ],
   "source": [
    "print(prob_1word('清'))\n",
    "print(prob_2words('清','華'))\n",
    "print(prob_word_by_word('我','很'))"
   ]
  },
  {
   "cell_type": "code",
   "execution_count": 33,
   "metadata": {
    "collapsed": false,
    "deletable": true,
    "editable": true
   },
   "outputs": [],
   "source": [
    "unicount_log = {k: log10(v) for k, v in unigram_counter.items()}\n",
    "bicount_log = {k: log10(v) for k, v in bigram_counter.items()}\n",
    "unigram_r_log = [log10(r) for r in unigram_r]\n",
    "bigram_r_log = [log10(r) for r in bigram_r]\n",
    "unigram_N_log = log10(unigram_N_)\n",
    "bigram_N_log = log10(bigram_N_)\n",
    "\n",
    "\n",
    "def prob_1word(unigram):\n",
    "    count = unigram_counter[unigram]\n",
    "    r = unigram_r_log[count] if count < k else unicount_log[unigram]\n",
    "    return r - unigram_N_log\n",
    "def prob_2words(text_front, text_rear):\n",
    "    count = bigram_counter[text_front, text_rear]\n",
    "    r = bigram_r_log[count] if count < k else bicount_log[text_front, text_rear]\n",
    "    return r - bigram_N_log"
   ]
  },
  {
   "cell_type": "code",
   "execution_count": 34,
   "metadata": {
    "collapsed": false,
    "deletable": true,
    "editable": true
   },
   "outputs": [
    {
     "name": "stdout",
     "output_type": "stream",
     "text": [
      "-3.3520246069321686\n",
      "-3.7596345517270455\n",
      "-5.231999360819604\n",
      "-1.879974753887435\n"
     ]
    }
   ],
   "source": [
    "print(prob_1word(u'清'))\n",
    "print(prob_1word(u'華'))\n",
    "print(prob_2words(u'清', u'華'))\n",
    "print(prob_word_by_word(u'清',u'華'))"
   ]
  },
  {
   "cell_type": "code",
   "execution_count": 35,
   "metadata": {
    "collapsed": false,
    "deletable": true,
    "editable": true
   },
   "outputs": [],
   "source": [
    "import math\n",
    "# N_unigram_corpus = math.log2(float(sum(unigram_counter.values())))\n",
    "# N_bigram_corpus = math.log2(float(sum(bigram_counter.values())))\n",
    "def pmi(words):\n",
    "    word1 = words[0]\n",
    "    word2 = words[1]\n",
    "    # Good-Turing Estimation 將次數小於k的字做一些調整 目標不要讓沒出現過的字 機率為0\n",
    "    count_word1 = unigram_counter[word1]\n",
    "    r_word1 = unigram_r_log[count_word1] if count_word1 < k else unicount_log[word1]\n",
    "    count_word2 = unigram_counter[word2]\n",
    "    r_word2 = unigram_r_log[count_word2] if count_word2 < k else unicount_log[word2]\n",
    "    count_word1_and_word2 = bigram_counter[(word1, word2)]\n",
    "    r_word1_and_word2 = bigram_r_log[count_word1_and_word2] if count_word1_and_word2 < k else bicount_log[(word1, word2)]\n",
    "\n",
    "    # mutual information algorithm\n",
    "    prob_word1 = r_word1 - unigram_N_log\n",
    "    prob_word2 = r_word2 -  unigram_N_log\n",
    "    prob_word1_word2 = r_word1_and_word2 -  bigram_N_log\n",
    "    return prob_word1_word2 - (prob_word1+prob_word2)"
   ]
  },
  {
   "cell_type": "code",
   "execution_count": 36,
   "metadata": {
    "collapsed": false,
    "deletable": true,
    "editable": true
   },
   "outputs": [
    {
     "name": "stdout",
     "output_type": "stream",
     "text": [
      "-8.282093830811121\n",
      "0.6955342288888389\n",
      "1.5351483023990387\n",
      "2.5625752923560103\n",
      "0.632807350998914\n"
     ]
    }
   ],
   "source": [
    "print(pmi((u'聰', u'思')))\n",
    "print(pmi((u'很',u'開')))\n",
    "print(pmi((u'開', u'心')))\n",
    "print(pmi((u'吃', u'飯')))\n",
    "print(pmi((u'我', u'弟')))"
   ]
  },
  {
   "cell_type": "code",
   "execution_count": 37,
   "metadata": {
    "collapsed": false,
    "deletable": true,
    "editable": true
   },
   "outputs": [],
   "source": [
    "import operator\n",
    "threshold = 0.5\n",
    "\n",
    "def word_segmentation(sentence):\n",
    "    # input : 忘了當初選的選項  \n",
    "    \n",
    "    # Handle empty sentence.\n",
    "    if len(sentence)==0:\n",
    "        return sentence\n",
    "    words_list = to_words(sentence, 2)\n",
    "    max_probability_dict = find_max_prob(to_prob_dict(words_list))\n",
    "    sentences = seperate_sentence(sentence, max_probability_dict)\n",
    "    return sentences.split()\n",
    "\n",
    "def to_words(unigrams, length):\n",
    "    return list(zip(*[unigrams[i:] for i in range(length)]))\n",
    "\n",
    "\n",
    "def to_prob_dict(words_list):\n",
    "#   input : [('忘', '了'), ('了', '當'), ('當', '初'), ('初', '選'), ('選', '的'), ('的', '選'), ('選', '項')]\n",
    "    result_sentence = {}\n",
    "    for word in words_list:\n",
    "        result_sentence[word] = pmi(word)\n",
    "    return result_sentence\n",
    "\n",
    "\n",
    "def find_max_prob(probability_dict):\n",
    "    sorted_prob = sorted(probability_dict.items(), key=operator.itemgetter(1), reverse=True)\n",
    "#     print(sorted_prob)  # Can see every candidate words prob.\n",
    "    result_list = []\n",
    "    for candidate in sorted_prob:\n",
    "        prob = candidate[1]\n",
    "        words_tuple = candidate[0]\n",
    "        if prob > threshold:\n",
    "            result_list.append(''.join(map(str, words_tuple)))  # ('選', '項') => 選項\n",
    "    return result_list\n",
    "\n",
    "\n",
    "def seperate_sentence(orginal_sentence, max_probability_dict):\n",
    "    segment_word = orginal_sentence\n",
    "    for candidate in max_probability_dict:\n",
    "        insert_word = \" \"+candidate+\" \"\n",
    "        segment_word = segment_word.replace(candidate, insert_word)\n",
    "    return segment_word"
   ]
  },
  {
   "cell_type": "code",
   "execution_count": 38,
   "metadata": {
    "collapsed": false,
    "deletable": true,
    "editable": true
   },
   "outputs": [
    {
     "name": "stdout",
     "output_type": "stream",
     "text": [
      "['我', '已經', '向', '六個', '女生', '邀請', '她們', '當我', '舞伴']\n"
     ]
    }
   ],
   "source": [
    "test = word_segmentation(u'我已經向六個女生邀請她們當我舞伴')\n",
    "print(test)"
   ]
  },
  {
   "cell_type": "code",
   "execution_count": 39,
   "metadata": {
    "collapsed": true,
    "deletable": true,
    "editable": true
   },
   "outputs": [],
   "source": [
    "total_lines = content_rdd.flatMap(lambda s: remove_url_and_punctuation(s['content'])).collect()"
   ]
  },
  {
   "cell_type": "code",
   "execution_count": 40,
   "metadata": {
    "collapsed": false,
    "deletable": true,
    "editable": true,
    "scrolled": true
   },
   "outputs": [
    {
     "name": "stdout",
     "output_type": "stream",
     "text": [
      "呃\n",
      "['呃']\n",
      "\n",
      "忘了當初選的選項\n",
      "['忘了', '當初', '選的', '選項']\n",
      "\n",
      "想要知道的話可以顯示嗎\n",
      "['想要', '知道', '的話', '可以', '顯示', '嗎']\n",
      "\n",
      "我猜線在是不行\n",
      "['我猜', '線在是', '不行']\n",
      "\n",
      "要改了系統才能吧\n",
      "['要改', '了', '系統', '才能', '吧']\n",
      "\n",
      "有時候難得遇到認識的人其實很高興\n",
      "['有', '時候', '難得', '遇到', '認識', '的人', '其實', '很', '高興']\n",
      "\n",
      "不過因為太久沒看到\n",
      "['不過', '因為', '太久', '沒', '看到']\n",
      "\n",
      "不知道要說什麼\n",
      "['不', '知道', '要說', '什麼']\n",
      "\n",
      "所以就快步離開了\n",
      "['所以', '就', '快步', '離開', '了']\n",
      "\n",
      "大家都有這樣的經驗嗎\n",
      "['大家', '都有', '這樣', '的', '經驗', '嗎']\n",
      "\n",
      "感覺淡江的同學好多阿\n",
      "['感覺', '淡江', '的', '同學', '好多', '阿']\n",
      "\n",
      "抽到好多都是淡江的\n",
      "['抽到', '好多', '都是', '淡江', '的']\n",
      "\n",
      "好友也都是\n",
      "['好友', '也', '都是']\n",
      "\n",
      "學校即將舉行耶誕舞會\n",
      "['學校', '即將', '舉行', '耶誕', '舞會']\n",
      "\n",
      "我已經向六個女生邀請她們當我舞伴\n",
      "['我', '已經', '向', '六個', '女生', '邀請', '她們', '當我', '舞伴']\n",
      "\n",
      "但是都被拒絕\n",
      "['但是', '都被', '拒絕']\n",
      "\n",
      "我很難過\n",
      "['我很', '難過']\n",
      "\n",
      "我無法再承受任何打擊\n",
      "['我', '無法', '再', '承受', '任何', '打擊']\n",
      "\n",
      "我心理系同學對我說\n",
      "['我', '心理', '系', '同學', '對', '我說']\n",
      "\n",
      "不要難過\n",
      "['不要', '難過']\n",
      "\n"
     ]
    }
   ],
   "source": [
    "for sentence in total_lines[:20]:\n",
    "    print(sentence)\n",
    "    print(word_segmentation(sentence))\n",
    "    print()"
   ]
  },
  {
   "cell_type": "code",
   "execution_count": 41,
   "metadata": {
    "collapsed": false,
    "deletable": true,
    "editable": true
   },
   "outputs": [],
   "source": [
    "def partial_match(word, counter):\n",
    "    new_counter = Counter()\n",
    "    for key, value in counter.most_common():\n",
    "        if all(k1 == k2 or k2 is None for k1, k2 in zip(key, word)):\n",
    "            new_counter[key] = value\n",
    "    return new_counter\n"
   ]
  },
  {
   "cell_type": "code",
   "execution_count": 42,
   "metadata": {
    "collapsed": false,
    "deletable": true,
    "editable": true
   },
   "outputs": [],
   "source": [
    "one_match = partial_match((u'沒', None), bigram_counter)\n",
    "two_match = partial_match((u'沒', u'有', None), trigram_counter)"
   ]
  },
  {
   "cell_type": "code",
   "execution_count": 43,
   "metadata": {
    "collapsed": false,
    "deletable": true,
    "editable": true
   },
   "outputs": [
    {
     "data": {
      "text/plain": [
       "[(('沒', '有'), 44669),\n",
       " (('沒', '什'), 2285),\n",
       " (('沒', '想'), 2201),\n",
       " (('沒', '辦'), 2084),\n",
       " (('沒', '人'), 1754),\n",
       " (('沒', '看'), 1645),\n",
       " (('沒', '關'), 1577),\n",
       " (('沒', '事'), 1472),\n",
       " (('沒', '錯'), 1344),\n",
       " (('沒', '多'), 864)]"
      ]
     },
     "execution_count": 43,
     "metadata": {},
     "output_type": "execute_result"
    }
   ],
   "source": [
    "one_match.most_common(10)"
   ]
  },
  {
   "cell_type": "code",
   "execution_count": 44,
   "metadata": {
    "collapsed": false,
    "deletable": true,
    "editable": true
   },
   "outputs": [
    {
     "data": {
      "text/plain": [
       "[(('沒', '有', '人'), 4608),\n",
       " (('沒', '有', '什'), 1272),\n",
       " (('沒', '有', '推'), 838),\n",
       " (('沒', '有', '這'), 832),\n",
       " (('沒', '有', '很'), 806),\n",
       " (('沒', '有', '要'), 713),\n",
       " (('沒', '有', '一'), 705),\n",
       " (('沒', '有', '想'), 627),\n",
       " (('沒', '有', '任'), 504),\n",
       " (('沒', '有', '看'), 495)]"
      ]
     },
     "execution_count": 44,
     "metadata": {},
     "output_type": "execute_result"
    }
   ],
   "source": [
    "two_match.most_common(10)"
   ]
  },
  {
   "cell_type": "markdown",
   "metadata": {
    "collapsed": true,
    "deletable": true,
    "editable": true
   },
   "source": [
    "# Latent Dirichlet allocation (LDA)"
   ]
  },
  {
   "cell_type": "code",
   "execution_count": 45,
   "metadata": {
    "collapsed": false,
    "deletable": true,
    "editable": true
   },
   "outputs": [],
   "source": [
    "from pyspark.mllib.clustering import LDA, LDAModel\n",
    "from pyspark.mllib.linalg import Vectors"
   ]
  },
  {
   "cell_type": "code",
   "execution_count": 46,
   "metadata": {
    "collapsed": false,
    "deletable": true,
    "editable": true
   },
   "outputs": [
    {
     "name": "stdout",
     "output_type": "stream",
     "text": [
      "/usr/local/spark/data/mllib/sample_lda_data.txt MapPartitionsRDD[37] at textFile at NativeMethodAccessorImpl.java:0\n",
      "PythonRDD[38] at RDD at PythonRDD.scala:48\n",
      "PythonRDD[40] at RDD at PythonRDD.scala:48\n"
     ]
    }
   ],
   "source": [
    "# Load and parse the data\n",
    "data = sc.textFile(\"/usr/local/spark/data/mllib/sample_lda_data.txt\")\n",
    "print(data)\n",
    "parsedData = data.map(lambda line: Vectors.dense([float(x) for x in line.strip().split(' ')]))\n",
    "print(parsedData)\n",
    "# Index documents with unique IDs\n",
    "corpus = parsedData.zipWithIndex().map(lambda x: [x[1], x[0]]).cache()\n",
    "print(corpus)"
   ]
  },
  {
   "cell_type": "code",
   "execution_count": 48,
   "metadata": {
    "collapsed": false,
    "deletable": true,
    "editable": true
   },
   "outputs": [
    {
     "name": "stdout",
     "output_type": "stream",
     "text": [
      "Learned topics (as distributions over vocab of 11 words):\n",
      "Topic 0:\n",
      " 4.61067775401\n",
      " 3.25718008285\n",
      " 3.61098650373\n",
      " 21.1410339609\n",
      " 1.33267641635\n",
      " 3.69186142758\n",
      " 14.762246776\n",
      " 0.82137537405\n",
      " 2.82532974243\n",
      " 4.10976967321\n",
      " 27.0634752056\n",
      "Topic 1:\n",
      " 15.2050887533\n",
      " 6.01461422762\n",
      " 1.98955510049\n",
      " 16.5388192049\n",
      " 18.7388467228\n",
      " 12.455585142\n",
      " 2.91831235673\n",
      " 8.02529688477\n",
      " 0.720473509988\n",
      " 2.6590998242\n",
      " 1.30631113799\n",
      "Topic 2:\n",
      " 6.1842334927\n",
      " 19.7282056895\n",
      " 6.39945839578\n",
      " 2.32014683424\n",
      " 4.92847686085\n",
      " 5.85255343039\n",
      " 13.3194408673\n",
      " 1.15332774118\n",
      " 4.45419674758\n",
      " 17.2311305026\n",
      " 4.63021365638\n"
     ]
    }
   ],
   "source": [
    "# Cluster the documents into three topics using LDA\n",
    "ldaModel = LDA.train(corpus, k=3)\n",
    "\n",
    "# Output topics. Each is a distribution over words (matching word count vectors)\n",
    "print(\"Learned topics (as distributions over vocab of \" + str(ldaModel.vocabSize())\n",
    "      + \" words):\")\n",
    "topics = ldaModel.topicsMatrix()\n",
    "for topic in range(3):\n",
    "    print(\"Topic \" + str(topic) + \":\")\n",
    "    for word in range(0, ldaModel.vocabSize()):\n",
    "        print(\" \" + str(topics[word][topic]))"
   ]
  },
  {
   "cell_type": "code",
   "execution_count": 49,
   "metadata": {
    "collapsed": true,
    "deletable": true,
    "editable": true
   },
   "outputs": [],
   "source": [
    "from collections import defaultdict\n",
    "\n",
    "\n",
    "num_of_stop_words = 50      # Number of most common words to remove, trying to eliminate stop words\n",
    "num_topics = 3              # Number of topics we are looking for\n",
    "num_words_per_topic = 15    # Number of words to display for each topic\n",
    "max_iterations = 60         # Max number of times to iterate before finishing"
   ]
  },
  {
   "cell_type": "code",
   "execution_count": 50,
   "metadata": {
    "collapsed": false,
    "deletable": true,
    "editable": true,
    "scrolled": true
   },
   "outputs": [
    {
     "data": {
      "text/plain": [
       "[(('沒', '有'), 44669),\n",
       " (('什', '麼'), 42759),\n",
       " (('可', '以'), 40630),\n",
       " (('一', '個'), 38825),\n",
       " (('自', '己'), 38158),\n",
       " (('知', '道'), 37187),\n",
       " (('大', '家'), 36745),\n",
       " (('覺', '得'), 35109),\n",
       " (('因', '為'), 34636),\n",
       " (('真', '的'), 33224),\n",
       " (('我', '們'), 31995),\n",
       " (('不', '是'), 28781),\n",
       " (('所', '以'), 28237),\n",
       " (('朋', '友'), 27289),\n",
       " (('就', '是'), 26864),\n",
       " (('時', '候'), 26351),\n",
       " (('還', '是'), 26081),\n",
       " (('這', '樣'), 24335),\n",
       " (('不', '知'), 21375),\n",
       " (('然', '後'), 21356),\n",
       " (('看', '到'), 21188),\n",
       " (('的', '人'), 20874),\n",
       " (('我', '的'), 20783),\n",
       " (('是', '我'), 20324),\n",
       " (('有', '人'), 19600),\n",
       " (('怎', '麼'), 19496),\n",
       " (('現', '在'), 18760),\n",
       " (('但', '是'), 18669),\n",
       " (('他', '們'), 18649),\n",
       " (('的', '時'), 18577),\n",
       " (('如', '果'), 17887),\n",
       " (('一', '下'), 17608),\n",
       " (('不', '會'), 16947),\n",
       " (('這', '個'), 16427),\n",
       " (('開', '始'), 16150),\n",
       " (('喜', '歡'), 15823),\n",
       " (('很', '多'), 15611),\n",
       " (('哈', '哈'), 15334),\n",
       " (('一', '直'), 15143),\n",
       " (('都', '是'), 14362),\n",
       " (('一', '樣'), 14308),\n",
       " (('個', '人'), 14118),\n",
       " (('有', '沒'), 14033),\n",
       " (('不', '要'), 13770),\n",
       " (('比', '較'), 13766),\n",
       " (('有', '一'), 13737),\n",
       " (('了', '一'), 13654),\n",
       " (('最', '近'), 13521),\n",
       " (('是', '不'), 13367),\n",
       " (('今', '天'), 13314)]"
      ]
     },
     "execution_count": 50,
     "metadata": {},
     "output_type": "execute_result"
    }
   ],
   "source": [
    "documents = sc.parallelize(result)\n",
    "unigram_counter.most_common(50)\n",
    "bigram_counter.most_common(50)"
   ]
  },
  {
   "cell_type": "code",
   "execution_count": null,
   "metadata": {
    "collapsed": false,
    "deletable": true,
    "editable": true
   },
   "outputs": [],
   "source": []
  },
  {
   "cell_type": "code",
   "execution_count": 51,
   "metadata": {
    "collapsed": false,
    "deletable": true,
    "editable": true
   },
   "outputs": [],
   "source": [
    "def document_segmentation(document):\n",
    "    sentences = remove_url_and_punctuation(document)  # output ['呃', '忘了當初選的選項', '想要知道的話可以顯示嗎', '我猜線在是不行', '要改了系統才能吧']\n",
    "    \n",
    "    sentence_list = []\n",
    "    for sentence in sentences:\n",
    "        # Handle empty sentence.\n",
    "        if len(sentence)==0:\n",
    "            return sentence\n",
    "        words_list = to_words(sentence, 2)\n",
    "        max_probability_dict = find_max_prob(to_prob_dict(words_list))\n",
    "        sentences = seperate_sentence(sentence, max_probability_dict)\n",
    "        sentence_list = sentence_list + sentences.split()\n",
    "    return sentence_list\n",
    "\n",
    "\n",
    "# Convert the given document into a vector of word counts\n",
    "def document_vector(document):\n",
    "    id = document[1]\n",
    "    counts = Counter()\n",
    "    for token in document[0]:\n",
    "        if token in vocabulary:\n",
    "            token_id = vocabulary[token]\n",
    "            counts[token_id] += 1\n",
    "    counts = sorted(counts.items())\n",
    "    if len(counts) > 0 :\n",
    "        keys = [x[0] for x in counts]\n",
    "        values = [x[1] for x in counts]\n",
    "    else:\n",
    "        keys = [0]\n",
    "        values = [0]\n",
    "    return (id, Vectors.sparse(len(vocabulary), keys, values))\n"
   ]
  },
  {
   "cell_type": "code",
   "execution_count": 52,
   "metadata": {
    "collapsed": false,
    "deletable": true,
    "editable": true
   },
   "outputs": [
    {
     "data": {
      "text/plain": [
       "Row(_id=10003, content='呃....忘了當初選的選項，想要知道的話可以顯示嗎?\\r\\n我猜線在是不行...要改了系統才能吧?\\r\\n')"
      ]
     },
     "execution_count": 52,
     "metadata": {},
     "output_type": "execute_result"
    }
   ],
   "source": [
    "content = df.select(df['_id'], df['content'])\n",
    "content_rdd = content.rdd.repartition(16).cache()\n",
    "# 把原本dcard的 id與標題 做比對\n",
    "\n",
    "\n",
    "content_rdd.take(1)[0]\n",
    "# result_rdd.map(lambda sentence: word_segmentation(sentence)).collect()"
   ]
  },
  {
   "cell_type": "code",
   "execution_count": 53,
   "metadata": {
    "collapsed": false,
    "deletable": true,
    "editable": true
   },
   "outputs": [],
   "source": [
    "result_rdd = content_rdd.map(lambda posts: document_segmentation(posts['content'])).filter(lambda documnet: len(documnet)>0)\n",
    "\n"
   ]
  },
  {
   "cell_type": "code",
   "execution_count": 54,
   "metadata": {
    "collapsed": false,
    "deletable": true,
    "editable": true
   },
   "outputs": [
    {
     "data": {
      "text/plain": [
       "[['呃',\n",
       "  '忘了',\n",
       "  '當初',\n",
       "  '選的',\n",
       "  '選項',\n",
       "  '想要',\n",
       "  '知道',\n",
       "  '的話',\n",
       "  '可以',\n",
       "  '顯示',\n",
       "  '嗎',\n",
       "  '我猜',\n",
       "  '線在是',\n",
       "  '不行',\n",
       "  '要改',\n",
       "  '了',\n",
       "  '系統',\n",
       "  '才能',\n",
       "  '吧']]"
      ]
     },
     "execution_count": 54,
     "metadata": {},
     "output_type": "execute_result"
    }
   ],
   "source": [
    "result_rdd.take(1)"
   ]
  },
  {
   "cell_type": "code",
   "execution_count": 55,
   "metadata": {
    "collapsed": false,
    "deletable": true,
    "editable": true
   },
   "outputs": [],
   "source": [
    "sentence_counts = result_rdd.flatMap(lambda document: document) \\\n",
    "    .map(lambda word: (word, 1) if word is not list else ('', 0)) \\\n",
    "    .reduceByKey( lambda x,y: x + y) \\\n",
    "    .map(lambda tuple: (tuple[1], tuple[0])) \\\n",
    "    .sortByKey(False)"
   ]
  },
  {
   "cell_type": "code",
   "execution_count": 56,
   "metadata": {
    "collapsed": false,
    "deletable": true,
    "editable": true
   },
   "outputs": [],
   "source": [
    "# Identify a threshold to remove the top words, in an effort to remove stop words\n",
    "threshold_value = sentence_counts.take(num_of_stop_words)[num_of_stop_words - 1][0]\n",
    "\n",
    "# Only keep words with a count less than the threshold identified above, and then index each one and collect them into a map\n",
    "vocabulary = sentence_counts                    \\\n",
    "    .filter(lambda x : x[0] < threshold_value)  \\\n",
    "    .map(lambda x: x[1])                        \\\n",
    "    .zipWithIndex()                             \\\n",
    "    .collectAsMap()"
   ]
  },
  {
   "cell_type": "code",
   "execution_count": 57,
   "metadata": {
    "collapsed": false,
    "deletable": true,
    "editable": true
   },
   "outputs": [],
   "source": [
    "\n",
    "documents = result_rdd.zipWithIndex().map(document_vector).map(list)\n"
   ]
  },
  {
   "cell_type": "code",
   "execution_count": 58,
   "metadata": {
    "collapsed": true,
    "deletable": true,
    "editable": true
   },
   "outputs": [],
   "source": [
    "inv_voc = {value: key for (key, value) in vocabulary.items()}\n"
   ]
  },
  {
   "cell_type": "code",
   "execution_count": 59,
   "metadata": {
    "collapsed": false,
    "deletable": true,
    "editable": true,
    "scrolled": true
   },
   "outputs": [
    {
     "data": {
      "text/plain": [
       "[[0,\n",
       "  SparseVector(370239, {33: 1.0, 92: 1.0, 100: 1.0, 532: 1.0, 559: 1.0, 723: 1.0, 892: 1.0, 1043: 1.0, 1110: 1.0, 1635: 1.0, 2763: 1.0, 4281: 1.0, 8909: 1.0, 12721: 1.0, 196820: 1.0})],\n",
       " [1,\n",
       "  SparseVector(370239, {7: 1.0, 22: 1.0, 56: 1.0, 127: 1.0, 144: 1.0, 192: 1.0, 209: 1.0, 480: 1.0, 2106: 1.0, 2195: 1.0, 2411: 1.0, 2904: 1.0, 18202: 1.0})],\n",
       " [2,\n",
       "  SparseVector(370239, {14: 2.0, 31: 1.0, 35: 1.0, 107: 1.0, 506: 1.0, 687: 2.0, 853: 1.0, 3924: 2.0})],\n",
       " [3,\n",
       "  SparseVector(370239, {27: 1.0, 30: 1.0, 34: 1.0, 35: 1.0, 67: 1.0, 77: 1.0, 127: 1.0, 152: 1.0, 180: 1.0, 189: 1.0, 378: 1.0, 387: 2.0, 503: 2.0, 505: 2.0, 583: 1.0, 663: 2.0, 683: 1.0, 903: 1.0, 953: 1.0, 1052: 1.0, 1065: 1.0, 1241: 1.0, 1400: 1.0, 1745: 1.0, 1851: 2.0, 1877: 1.0, 2142: 1.0, 2498: 1.0, 2565: 1.0, 2896: 1.0, 3404: 1.0, 3929: 1.0, 5423: 1.0, 5460: 1.0, 8729: 1.0, 9386: 1.0, 9487: 1.0, 10895: 2.0, 12669: 1.0, 15978: 1.0, 23234: 1.0, 80409: 1.0, 140181: 1.0})],\n",
       " [4,\n",
       "  SparseVector(370239, {1: 1.0, 12: 1.0, 13: 1.0, 14: 1.0, 17: 1.0, 34: 3.0, 40: 3.0, 63: 1.0, 70: 1.0, 77: 1.0, 94: 1.0, 123: 2.0, 125: 1.0, 146: 1.0, 149: 1.0, 151: 1.0, 161: 1.0, 189: 1.0, 193: 1.0, 201: 1.0, 218: 1.0, 221: 1.0, 227: 2.0, 264: 1.0, 280: 3.0, 316: 1.0, 325: 1.0, 331: 1.0, 387: 1.0, 388: 1.0, 404: 1.0, 462: 1.0, 463: 2.0, 532: 1.0, 550: 2.0, 573: 4.0, 579: 1.0, 598: 1.0, 599: 1.0, 614: 2.0, 615: 2.0, 620: 1.0, 621: 2.0, 639: 1.0, 652: 1.0, 657: 1.0, 666: 1.0, 673: 1.0, 738: 1.0, 825: 1.0, 964: 1.0, 1007: 1.0, 1030: 1.0, 1067: 1.0, 1075: 1.0, 1092: 1.0, 1145: 1.0, 1159: 1.0, 1193: 3.0, 1250: 1.0, 1271: 1.0, 1321: 1.0, 1382: 1.0, 1442: 1.0, 1538: 1.0, 1552: 1.0, 1575: 1.0, 1622: 1.0, 1628: 1.0, 1634: 1.0, 1714: 1.0, 1717: 1.0, 1737: 2.0, 1766: 1.0, 1777: 5.0, 1792: 1.0, 1852: 1.0, 1853: 2.0, 1894: 1.0, 1942: 1.0, 1999: 1.0, 2006: 1.0, 2022: 1.0, 2205: 1.0, 2247: 2.0, 2291: 1.0, 2349: 1.0, 2376: 2.0, 2499: 1.0, 2528: 1.0, 2631: 1.0, 2716: 9.0, 2755: 1.0, 2761: 1.0, 2764: 1.0, 2774: 4.0, 2900: 4.0, 2949: 2.0, 3039: 1.0, 3147: 1.0, 3249: 1.0, 3415: 1.0, 3435: 2.0, 3443: 1.0, 3458: 1.0, 3531: 1.0, 3628: 1.0, 3785: 1.0, 3838: 1.0, 4098: 1.0, 4200: 1.0, 4213: 1.0, 4276: 3.0, 4428: 1.0, 4527: 2.0, 4566: 4.0, 4577: 1.0, 4638: 4.0, 4644: 1.0, 4658: 2.0, 4667: 1.0, 4929: 6.0, 5114: 1.0, 5157: 1.0, 5293: 1.0, 5691: 1.0, 5861: 1.0, 5884: 1.0, 6054: 1.0, 6094: 3.0, 6639: 1.0, 6844: 1.0, 7188: 1.0, 7283: 1.0, 7349: 1.0, 7392: 1.0, 7948: 2.0, 8027: 1.0, 8201: 1.0, 8773: 1.0, 8842: 1.0, 8912: 1.0, 8936: 1.0, 9281: 1.0, 9328: 1.0, 9510: 1.0, 10003: 1.0, 10235: 1.0, 10605: 1.0, 11082: 1.0, 11586: 3.0, 11683: 2.0, 11688: 1.0, 11975: 1.0, 12217: 2.0, 12732: 1.0, 13148: 1.0, 13625: 1.0, 14271: 3.0, 15485: 1.0, 17062: 1.0, 17537: 1.0, 18096: 2.0, 18539: 1.0, 19099: 1.0, 19953: 1.0, 20544: 1.0, 21721: 1.0, 21989: 1.0, 22051: 1.0, 22763: 1.0, 23080: 1.0, 23953: 1.0, 24469: 1.0, 26073: 1.0, 26203: 1.0, 31412: 4.0, 34921: 2.0, 38006: 1.0, 39468: 1.0, 40752: 1.0, 43087: 1.0, 43812: 4.0, 45550: 1.0, 47127: 1.0, 49744: 2.0, 51047: 1.0, 55734: 5.0, 60383: 1.0, 62511: 1.0, 72904: 1.0, 90800: 1.0, 109027: 1.0, 111018: 1.0, 121782: 2.0, 137856: 1.0, 152904: 1.0, 171890: 1.0, 172515: 1.0, 191470: 1.0, 196181: 1.0, 205463: 1.0, 217563: 1.0, 235139: 1.0, 267782: 1.0, 297097: 1.0, 321976: 1.0, 329288: 1.0, 337090: 1.0, 349550: 1.0})],\n",
       " [5,\n",
       "  SparseVector(370239, {3: 1.0, 7: 1.0, 8: 1.0, 14: 1.0, 27: 1.0, 42: 1.0, 67: 2.0, 76: 1.0, 89: 3.0, 94: 1.0, 98: 1.0, 133: 1.0, 170: 1.0, 178: 1.0, 209: 1.0, 257: 1.0, 260: 2.0, 278: 1.0, 304: 2.0, 565: 1.0, 701: 1.0, 874: 1.0, 1021: 1.0, 1043: 2.0, 1169: 1.0, 1284: 1.0, 1314: 1.0, 1676: 1.0, 2573: 1.0, 3114: 1.0, 3596: 1.0, 3852: 1.0, 5155: 1.0, 10169: 1.0, 11836: 1.0, 111543: 1.0})],\n",
       " [6,\n",
       "  SparseVector(370239, {1: 1.0, 10: 1.0, 14: 1.0, 18: 1.0, 21: 1.0, 36: 1.0, 49: 1.0, 53: 1.0, 57: 1.0, 62: 1.0, 67: 2.0, 72: 1.0, 75: 1.0, 100: 1.0, 108: 1.0, 124: 1.0, 202: 2.0, 223: 1.0, 247: 1.0, 260: 2.0, 278: 1.0, 281: 1.0, 295: 1.0, 302: 1.0, 304: 2.0, 388: 1.0, 440: 1.0, 462: 1.0, 538: 2.0, 690: 1.0, 738: 1.0, 821: 1.0, 897: 1.0, 969: 1.0, 1043: 1.0, 1064: 1.0, 1081: 2.0, 1210: 1.0, 1431: 1.0, 1499: 1.0, 1738: 1.0, 1823: 1.0, 2795: 2.0, 3627: 1.0, 3953: 1.0, 4508: 1.0, 4831: 1.0, 5291: 1.0, 5537: 1.0, 13942: 1.0, 50926: 1.0})],\n",
       " [7,\n",
       "  SparseVector(370239, {14: 2.0, 124: 1.0, 157: 1.0, 306: 2.0, 346: 1.0, 392: 1.0, 514: 1.0, 541: 1.0, 544: 1.0, 697: 1.0, 1080: 1.0, 1508: 1.0, 1812: 1.0, 2331: 1.0, 2367: 1.0, 2516: 1.0, 2975: 1.0, 4488: 1.0, 5203: 1.0, 6841: 1.0})],\n",
       " [8,\n",
       "  SparseVector(370239, {7: 1.0, 28: 1.0, 34: 1.0, 37: 1.0, 44: 1.0, 69: 1.0, 105: 1.0, 118: 1.0, 164: 1.0, 178: 1.0, 239: 1.0, 242: 1.0, 257: 2.0, 260: 6.0, 278: 6.0, 304: 6.0, 350: 1.0, 436: 1.0, 448: 1.0, 554: 1.0, 697: 1.0, 824: 1.0, 1046: 1.0, 1139: 1.0, 1157: 1.0, 1521: 1.0, 1730: 1.0, 1847: 1.0, 1879: 1.0, 2005: 1.0, 2533: 2.0, 2706: 1.0, 3001: 1.0, 3070: 2.0, 4004: 1.0, 4380: 1.0, 5638: 2.0, 11565: 1.0, 12185: 1.0, 27954: 1.0, 29466: 1.0, 47525: 1.0})],\n",
       " [9,\n",
       "  SparseVector(370239, {8: 1.0, 45: 1.0, 46: 1.0, 53: 1.0, 273: 1.0, 346: 1.0, 482: 1.0, 958: 1.0, 972: 1.0, 1253: 1.0})]]"
      ]
     },
     "execution_count": 59,
     "metadata": {},
     "output_type": "execute_result"
    }
   ],
   "source": [
    "documents.take(10)"
   ]
  },
  {
   "cell_type": "code",
   "execution_count": null,
   "metadata": {
    "collapsed": false,
    "deletable": true,
    "editable": true
   },
   "outputs": [],
   "source": []
  },
  {
   "cell_type": "code",
   "execution_count": 60,
   "metadata": {
    "collapsed": false,
    "deletable": true,
    "editable": true
   },
   "outputs": [
    {
     "name": "stdout",
     "output_type": "stream",
     "text": [
      "('傘伸', 194994)\n"
     ]
    }
   ],
   "source": [
    "for a in vocabulary.items():\n",
    "    if a[1]==194994:\n",
    "        print(a)"
   ]
  },
  {
   "cell_type": "code",
   "execution_count": 61,
   "metadata": {
    "collapsed": false,
    "deletable": true,
    "editable": true
   },
   "outputs": [],
   "source": [
    "lda_model = LDA.train(documents, k=num_topics, maxIterations=max_iterations)\n",
    "topic_indices = lda_model.describeTopics(maxTermsPerTopic=num_words_per_topic)"
   ]
  },
  {
   "cell_type": "code",
   "execution_count": 62,
   "metadata": {
    "collapsed": false,
    "deletable": true,
    "editable": true
   },
   "outputs": [],
   "source": [
    "# with open(\"/home/phejimlin/Documents/dcard_spark/output.txt\", 'w') as f:\n",
    "#     lda_model = LDA.train(documents, k=num_topics)\n",
    "\n",
    "#     topic_indices = lda_model.describeTopics(maxTermsPerTopic=num_words_per_topic)\n",
    "        \n",
    "#     # Print topics, showing the top-weighted 10 terms for each topic\n",
    "#     for i in range(len(topic_indices)):\n",
    "#         f.write(\"Topic #{0}\\n\".format(i + 1))\n",
    "#         for j in range(len(topic_indices[i][0])):\n",
    "#             f.write(\"{0}\\t{1}\\n\".format(inv_voc[topic_indices[i][0][j]].encode('utf-8'), topic_indices[i][1][j]))\n",
    "            \n",
    "\n",
    "#     f.write(\"{0} topics distributed over {1} documents and {2} unique words\\n\".format(topic_val, documents.count(), len(vocabulary)))"
   ]
  },
  {
   "cell_type": "code",
   "execution_count": 63,
   "metadata": {
    "collapsed": false,
    "deletable": true,
    "editable": true,
    "scrolled": false
   },
   "outputs": [
    {
     "name": "stdout",
     "output_type": "stream",
     "text": [
      "Topic #1\n",
      "\n",
      "想\t0.005876551881665978\n",
      "\n",
      "各位\t0.005145913310986505\n",
      "\n",
      "請問\t0.004985720155710598\n",
      "\n",
      "同學\t0.004644286372869073\n",
      "\n",
      "時間\t0.004195192973717878\n",
      "\n",
      "到\t0.004185557387906027\n",
      "\n",
      "學校\t0.0040965667408815265\n",
      "\n",
      "有人\t0.004007460206057752\n",
      "\n",
      "最近\t0.003878683799553402\n",
      "\n",
      "大學\t0.0037732649728026424\n",
      "\n",
      "去\t0.003542083858920946\n",
      "\n",
      "一\t0.003325086030674636\n",
      "\n",
      "比較\t0.0031826984276454996\n",
      "\n",
      "00\t0.003181115845806004\n",
      "\n",
      "沒\t0.0031727424346081963\n",
      "\n",
      "Topic #2\n",
      "\n",
      "一直\t0.004773470599061366\n",
      "\n",
      "哈哈\t0.0043644766875047284\n",
      "\n",
      "她\t0.004244470627124026\n",
      "\n",
      "今天\t0.004020599861706831\n",
      "\n",
      "女生\t0.003962322751623182\n",
      "\n",
      "跟我\t0.003923133256579232\n",
      "\n",
      "看\t0.003878029570871312\n",
      "\n",
      "起來\t0.0035755270931731673\n",
      "\n",
      "沒\t0.0033865970241657496\n",
      "\n",
      "開始\t0.0031734655579402833\n",
      "\n",
      "可是\t0.0031669840614835343\n",
      "\n",
      "發現\t0.003136650194175333\n",
      "\n",
      "小\t0.003106826557661898\n",
      "\n",
      "喜歡\t0.0030949453573358237\n",
      "\n",
      "突然\t0.0030701189968184205\n",
      "\n",
      "Topic #3\n",
      "\n",
      "這個\t0.004203443217561273\n",
      "\n",
      "台灣\t0.004136925176251302\n",
      "\n",
      "喜歡\t0.0034704957854613558\n",
      "\n",
      "為\t0.003355249158990656\n",
      "\n",
      "很多\t0.003299620594330903\n",
      "\n",
      "和\t0.002975157292996413\n",
      "\n",
      "只是\t0.0028927269604115584\n",
      "\n",
      "而\t0.002813542039597897\n",
      "\n",
      "上\t0.0026843734203907026\n",
      "\n",
      "可能\t0.002608173604268255\n",
      "\n",
      "其實\t0.002550166608880742\n",
      "\n",
      "對\t0.00254133853147193\n",
      "\n",
      "呢\t0.0023513701643437584\n",
      "\n",
      "都是\t0.002345843047694852\n",
      "\n",
      "這些\t0.002286099543844689\n",
      "\n"
     ]
    }
   ],
   "source": [
    "for i in range(len(topic_indices)):\n",
    "    print(\"Topic #{0}\\n\".format(i + 1))\n",
    "    for j in range(len(topic_indices[i][0])):\n",
    "        print(\"{0}\\t{1}\\n\".format(inv_voc[topic_indices[i][0][j]], topic_indices[i][1][j]))"
   ]
  },
  {
   "cell_type": "code",
   "execution_count": 64,
   "metadata": {
    "collapsed": false,
    "deletable": true,
    "editable": true
   },
   "outputs": [
    {
     "name": "stdout",
     "output_type": "stream",
     "text": [
      "Topic #1\n",
      "\n",
      "想\t0.005876551881665978\n",
      "\n",
      "各位\t0.005145913310986505\n",
      "\n",
      "請問\t0.004985720155710598\n",
      "\n",
      "同學\t0.004644286372869073\n",
      "\n",
      "時間\t0.004195192973717878\n",
      "\n",
      "到\t0.004185557387906027\n",
      "\n",
      "學校\t0.0040965667408815265\n",
      "\n",
      "有人\t0.004007460206057752\n",
      "\n",
      "最近\t0.003878683799553402\n",
      "\n",
      "大學\t0.0037732649728026424\n",
      "\n",
      "去\t0.003542083858920946\n",
      "\n",
      "一\t0.003325086030674636\n",
      "\n",
      "比較\t0.0031826984276454996\n",
      "\n",
      "00\t0.003181115845806004\n",
      "\n",
      "沒\t0.0031727424346081963\n",
      "\n",
      "Topic #2\n",
      "\n",
      "一直\t0.004773470599061366\n",
      "\n",
      "哈哈\t0.0043644766875047284\n",
      "\n",
      "她\t0.004244470627124026\n",
      "\n",
      "今天\t0.004020599861706831\n",
      "\n",
      "女生\t0.003962322751623182\n",
      "\n",
      "跟我\t0.003923133256579232\n",
      "\n",
      "看\t0.003878029570871312\n",
      "\n",
      "起來\t0.0035755270931731673\n",
      "\n",
      "沒\t0.0033865970241657496\n",
      "\n",
      "開始\t0.0031734655579402833\n",
      "\n",
      "可是\t0.0031669840614835343\n",
      "\n",
      "發現\t0.003136650194175333\n",
      "\n",
      "小\t0.003106826557661898\n",
      "\n",
      "喜歡\t0.0030949453573358237\n",
      "\n",
      "突然\t0.0030701189968184205\n",
      "\n",
      "Topic #3\n",
      "\n",
      "這個\t0.004203443217561273\n",
      "\n",
      "台灣\t0.004136925176251302\n",
      "\n",
      "喜歡\t0.0034704957854613558\n",
      "\n",
      "為\t0.003355249158990656\n",
      "\n",
      "很多\t0.003299620594330903\n",
      "\n",
      "和\t0.002975157292996413\n",
      "\n",
      "只是\t0.0028927269604115584\n",
      "\n",
      "而\t0.002813542039597897\n",
      "\n",
      "上\t0.0026843734203907026\n",
      "\n",
      "可能\t0.002608173604268255\n",
      "\n",
      "其實\t0.002550166608880742\n",
      "\n",
      "對\t0.00254133853147193\n",
      "\n",
      "呢\t0.0023513701643437584\n",
      "\n",
      "都是\t0.002345843047694852\n",
      "\n",
      "這些\t0.002286099543844689\n",
      "\n"
     ]
    }
   ],
   "source": [
    "for i in range(len(topic_indices)):\n",
    "    print(\"Topic #{0}\\n\".format(i + 1))\n",
    "    for j in range(len(topic_indices[i][0])):\n",
    "        print(\"{0}\\t{1}\\n\".format(inv_voc[topic_indices[i][0][j]], topic_indices[i][1][j]))\n"
   ]
  },
  {
   "cell_type": "code",
   "execution_count": 65,
   "metadata": {
    "collapsed": true,
    "deletable": true,
    "editable": true
   },
   "outputs": [],
   "source": [
    "# ldaModel.save(sc, '/home/phejimlin/Documents/dcard_spark')"
   ]
  },
  {
   "cell_type": "code",
   "execution_count": 66,
   "metadata": {
    "collapsed": false,
    "deletable": true,
    "editable": true
   },
   "outputs": [],
   "source": [
    "topics = ldaModel.topicsMatrix()\n"
   ]
  },
  {
   "cell_type": "code",
   "execution_count": 67,
   "metadata": {
    "collapsed": false,
    "deletable": true,
    "editable": true
   },
   "outputs": [
    {
     "name": "stdout",
     "output_type": "stream",
     "text": [
      "Topic 0:\n",
      " 4.61067775401\n",
      " 3.25718008285\n",
      " 3.61098650373\n",
      " 21.1410339609\n",
      " 1.33267641635\n",
      " 3.69186142758\n",
      " 14.762246776\n",
      " 0.82137537405\n",
      " 2.82532974243\n",
      " 4.10976967321\n",
      " 27.0634752056\n",
      "Topic 1:\n",
      " 15.2050887533\n",
      " 6.01461422762\n",
      " 1.98955510049\n",
      " 16.5388192049\n",
      " 18.7388467228\n",
      " 12.455585142\n",
      " 2.91831235673\n",
      " 8.02529688477\n",
      " 0.720473509988\n",
      " 2.6590998242\n",
      " 1.30631113799\n",
      "Topic 2:\n",
      " 6.1842334927\n",
      " 19.7282056895\n",
      " 6.39945839578\n",
      " 2.32014683424\n",
      " 4.92847686085\n",
      " 5.85255343039\n",
      " 13.3194408673\n",
      " 1.15332774118\n",
      " 4.45419674758\n",
      " 17.2311305026\n",
      " 4.63021365638\n"
     ]
    }
   ],
   "source": [
    "for topic in range(3):\n",
    "    print(\"Topic \" + str(topic) + \":\")\n",
    "    for word in range(0, ldaModel.vocabSize()):\n",
    "        print(\" \" + str(topics[word][topic]))"
   ]
  },
  {
   "cell_type": "code",
   "execution_count": 68,
   "metadata": {
    "collapsed": false,
    "deletable": true,
    "editable": true
   },
   "outputs": [
    {
     "data": {
      "text/plain": [
       "pyspark.rdd.PipelinedRDD"
      ]
     },
     "execution_count": 68,
     "metadata": {},
     "output_type": "execute_result"
    }
   ],
   "source": [
    "type(documents)"
   ]
  },
  {
   "cell_type": "code",
   "execution_count": 69,
   "metadata": {
    "collapsed": false,
    "deletable": true,
    "editable": true
   },
   "outputs": [],
   "source": [
    "from pyspark.ml.clustering import LDA\n",
    "from pyspark.ml.linalg import Vectors, SparseVector\n",
    "\n",
    "# Convert the given document into a vector of word counts\n",
    "def document_vector(document):\n",
    "    id = document[1]\n",
    "    counts = Counter()\n",
    "    for token in document[0]:\n",
    "        if token in vocabulary:\n",
    "            token_id = vocabulary[token]\n",
    "            counts[token_id] += 1\n",
    "    counts = sorted(counts.items())\n",
    "    if len(counts) > 0 :\n",
    "        keys = [x[0] for x in counts]\n",
    "        values = [x[1] for x in counts]\n",
    "    else:\n",
    "        keys = [0]\n",
    "        values = [0]\n",
    "    return (id, SparseVector(len(vocabulary), keys, values))"
   ]
  },
  {
   "cell_type": "code",
   "execution_count": 70,
   "metadata": {
    "collapsed": false,
    "deletable": true,
    "editable": true
   },
   "outputs": [],
   "source": [
    "# df_lda = my_spark.createDataFrame([[1, Vectors.dense([0.0, 1.0])], [2, SparseVector(2, {0: 1.0})]], [\"id\", \"features\"])\n",
    "documents = result_rdd.zipWithIndex().map(document_vector).map(list).collect()\n",
    "df_lda = my_spark.createDataFrame(documents, [\"id\", \"features\"])\n"
   ]
  },
  {
   "cell_type": "code",
   "execution_count": 71,
   "metadata": {
    "collapsed": false,
    "deletable": true,
    "editable": true
   },
   "outputs": [
    {
     "name": "stdout",
     "output_type": "stream",
     "text": [
      "+-----+--------------------+--------------------+\n",
      "|topic|         termIndices|         termWeights|\n",
      "+-----+--------------------+--------------------+\n",
      "|    0|[2, 173, 9, 3, 1,...|[0.00266596499784...|\n",
      "|    1|[54, 1, 3, 49, 2,...|[0.00267392267619...|\n",
      "|    2|[0, 1, 6, 8, 4, 5...|[0.00257590089825...|\n",
      "|    3|[7, 9, 4, 2, 8, 5...|[0.00269081560297...|\n",
      "|    4|[214, 237, 5, 0, ...|[0.00304493206973...|\n",
      "+-----+--------------------+--------------------+\n",
      "\n"
     ]
    }
   ],
   "source": [
    "lda = LDA(k=5, seed=1, optimizer=\"em\")\n",
    "model = lda.fit(df_lda)\n",
    "model.isDistributed()\n",
    "\n",
    "localModel = model.toLocal()\n",
    "localModel.isDistributed()\n",
    "\n",
    "model.vocabSize()\n",
    "\n",
    "model.describeTopics().show()"
   ]
  },
  {
   "cell_type": "code",
   "execution_count": 72,
   "metadata": {
    "collapsed": false,
    "deletable": true,
    "editable": true
   },
   "outputs": [
    {
     "data": {
      "text/plain": [
       "DenseMatrix(370239, 5, [3084.9592, 3378.9098, 3696.3168, 3386.0323, 3306.3288, 3350.5957, 3282.4246, 3201.592, ..., 0.3116, 0.0827, 0.1136, 0.1187, 0.0629, 0.0222, 0.1752, 0.1648], 0)"
      ]
     },
     "execution_count": 72,
     "metadata": {},
     "output_type": "execute_result"
    }
   ],
   "source": [
    "model.topicsMatrix()"
   ]
  },
  {
   "cell_type": "code",
   "execution_count": 88,
   "metadata": {
    "collapsed": true,
    "deletable": true,
    "editable": true
   },
   "outputs": [],
   "source": [
    "lda_result = model.describeTopics().collect()"
   ]
  },
  {
   "cell_type": "code",
   "execution_count": 89,
   "metadata": {
    "collapsed": false,
    "deletable": true,
    "editable": true
   },
   "outputs": [
    {
     "data": {
      "text/plain": [
       "[0.0026659649978443977,\n",
       " 0.0026524872738849176,\n",
       " 0.002463622275976601,\n",
       " 0.002442172659615011,\n",
       " 0.0024370355544656276,\n",
       " 0.002416614020059773,\n",
       " 0.0023846865782090627,\n",
       " 0.0023674456465796376,\n",
       " 0.002309145195733088,\n",
       " 0.002225023907389491]"
      ]
     },
     "execution_count": 89,
     "metadata": {},
     "output_type": "execute_result"
    }
   ],
   "source": [
    "lda_result[0][2]"
   ]
  },
  {
   "cell_type": "code",
   "execution_count": 90,
   "metadata": {
    "collapsed": false,
    "deletable": true,
    "editable": true,
    "scrolled": true
   },
   "outputs": [
    {
     "name": "stdout",
     "output_type": "stream",
     "text": [
      "Topic #1\n",
      "\n",
      "開始\t0.0026659649978443977\n",
      "\n",
      "__\t0.0026524872738849176\n",
      "\n",
      "一直\t0.002463622275976601\n",
      "\n",
      "到\t0.002442172659615011\n",
      "\n",
      "這個\t0.0024370355544656276\n",
      "\n",
      "喜歡\t0.002416614020059773\n",
      "\n",
      "不會\t0.0023846865782090627\n",
      "\n",
      "很多\t0.0023674456465796376\n",
      "\n",
      "沒\t0.002309145195733088\n",
      "\n",
      "想\t0.002225023907389491\n",
      "\n",
      "Topic #2\n",
      "\n",
      "台灣\t0.0026739226761905367\n",
      "\n",
      "這個\t0.0025113442187752483\n",
      "\n",
      "到\t0.0024832180719042574\n",
      "\n",
      "大學\t0.0023908255371749235\n",
      "\n",
      "開始\t0.0023432689956699097\n",
      "\n",
      "上\t0.0023200172517017364\n",
      "\n",
      "很多\t0.002288571461157144\n",
      "\n",
      "不會\t0.002224652553767057\n",
      "\n",
      "問題\t0.0021949973319885826\n",
      "\n",
      "一\t0.002180700881704841\n",
      "\n",
      "Topic #3\n",
      "\n",
      "想\t0.002575900898259511\n",
      "\n",
      "這個\t0.002567104616922189\n",
      "\n",
      "很多\t0.0024258031993770537\n",
      "\n",
      "看\t0.0024057795919906993\n",
      "\n",
      "不會\t0.002343615087396145\n",
      "\n",
      "喜歡\t0.002317761425816745\n",
      "\n",
      "上\t0.0022841946557724917\n",
      "\n",
      "到\t0.002267377234249656\n",
      "\n",
      "有人\t0.002255848636167972\n",
      "\n",
      "沒\t0.0022285380082355663\n",
      "\n",
      "Topic #4\n",
      "\n",
      "沒\t0.0026908156029775655\n",
      "\n",
      "一直\t0.002525349381928592\n",
      "\n",
      "不會\t0.002520496454430399\n",
      "\n",
      "開始\t0.0025155167971237635\n",
      "\n",
      "看\t0.002459928509714513\n",
      "\n",
      "喜歡\t0.002446171795137844\n",
      "\n",
      "到\t0.0024421857845255664\n",
      "\n",
      "想\t0.00243726668711843\n",
      "\n",
      "今天\t0.0022580434009657206\n",
      "\n",
      "她\t0.0022349401938220057\n",
      "\n",
      "Topic #5\n",
      "\n",
      "e\t0.0030449320697373975\n",
      "\n",
      "in\t0.002728811053747895\n",
      "\n",
      "喜歡\t0.0026395748354010014\n",
      "\n",
      "想\t0.002597696795667845\n",
      "\n",
      "哈哈\t0.002390242560198538\n",
      "\n",
      "最近\t0.002334929217960338\n",
      "\n",
      "有人\t0.0022152263709595684\n",
      "\n",
      "不會\t0.002186651129061675\n",
      "\n",
      "a\t0.00216869931702869\n",
      "\n",
      "看\t0.0021377636932671394\n",
      "\n"
     ]
    }
   ],
   "source": [
    "for i in range(len(lda_result)):\n",
    "    print(\"Topic #{0}\\n\".format(i + 1))\n",
    "    for j in range(len(lda_result[i][1])):\n",
    "        print(\"{0}\\t{1}\\n\".format(inv_voc[lda_result[i][1][j]], lda_result[i][2][j]))"
   ]
  },
  {
   "cell_type": "code",
   "execution_count": 102,
   "metadata": {
    "collapsed": false,
    "deletable": true,
    "editable": true
   },
   "outputs": [],
   "source": [
    "test_document = my_spark.createDataFrame(documents[:10], [\"id\", \"features\"])\n",
    "transformed = model.transform(test_document)\n",
    "dist = transformed.take(10)"
   ]
  },
  {
   "cell_type": "code",
   "execution_count": 103,
   "metadata": {
    "collapsed": false,
    "deletable": true,
    "editable": true
   },
   "outputs": [
    {
     "name": "stdout",
     "output_type": "stream",
     "text": [
      "+---+--------------------+--------------------+\n",
      "| id|            features|   topicDistribution|\n",
      "+---+--------------------+--------------------+\n",
      "|  0|(370239,[33,92,10...|[0.20108538494045...|\n",
      "|  1|(370239,[7,22,56,...|[0.20231190914788...|\n",
      "|  2|(370239,[14,31,35...|[0.19972245203753...|\n",
      "|  3|(370239,[27,30,34...|[0.23060794160369...|\n",
      "|  4|(370239,[1,12,13,...|[0.06363641411485...|\n",
      "|  5|(370239,[3,7,8,14...|[0.18531674868468...|\n",
      "|  6|(370239,[1,10,14,...|[0.18808658392380...|\n",
      "|  7|(370239,[14,124,1...|[0.18325187414877...|\n",
      "|  8|(370239,[7,28,34,...|[0.15195312922567...|\n",
      "|  9|(370239,[8,45,46,...|[0.19948906753667...|\n",
      "+---+--------------------+--------------------+\n",
      "\n"
     ]
    }
   ],
   "source": [
    "transformed.show()"
   ]
  },
  {
   "cell_type": "code",
   "execution_count": 116,
   "metadata": {
    "collapsed": false,
    "deletable": true,
    "editable": true,
    "scrolled": true
   },
   "outputs": [
    {
     "data": {
      "text/plain": [
       "[Row(id=0, features=SparseVector(370239, {33: 1.0, 92: 1.0, 100: 1.0, 532: 1.0, 559: 1.0, 723: 1.0, 892: 1.0, 1043: 1.0, 1110: 1.0, 1635: 1.0, 2763: 1.0, 4281: 1.0, 8909: 1.0, 12721: 1.0, 196820: 1.0}), topicDistribution=DenseVector([0.2011, 0.1956, 0.205, 0.1976, 0.2007])),\n",
       " Row(id=1, features=SparseVector(370239, {7: 1.0, 22: 1.0, 56: 1.0, 127: 1.0, 144: 1.0, 192: 1.0, 209: 1.0, 480: 1.0, 2106: 1.0, 2195: 1.0, 2411: 1.0, 2904: 1.0, 18202: 1.0}), topicDistribution=DenseVector([0.2023, 0.1937, 0.1978, 0.2113, 0.1949])),\n",
       " Row(id=2, features=SparseVector(370239, {14: 2.0, 31: 1.0, 35: 1.0, 107: 1.0, 506: 1.0, 687: 2.0, 853: 1.0, 3924: 2.0}), topicDistribution=DenseVector([0.1997, 0.1972, 0.2013, 0.1992, 0.2026])),\n",
       " Row(id=3, features=SparseVector(370239, {27: 1.0, 30: 1.0, 34: 1.0, 35: 1.0, 67: 1.0, 77: 1.0, 127: 1.0, 152: 1.0, 180: 1.0, 189: 1.0, 378: 1.0, 387: 2.0, 503: 2.0, 505: 2.0, 583: 1.0, 663: 2.0, 683: 1.0, 903: 1.0, 953: 1.0, 1052: 1.0, 1065: 1.0, 1241: 1.0, 1400: 1.0, 1745: 1.0, 1851: 2.0, 1877: 1.0, 2142: 1.0, 2498: 1.0, 2565: 1.0, 2896: 1.0, 3404: 1.0, 3929: 1.0, 5423: 1.0, 5460: 1.0, 8729: 1.0, 9386: 1.0, 9487: 1.0, 10895: 2.0, 12669: 1.0, 15978: 1.0, 23234: 1.0, 80409: 1.0, 140181: 1.0}), topicDistribution=DenseVector([0.2306, 0.1928, 0.1802, 0.2173, 0.1791])),\n",
       " Row(id=4, features=SparseVector(370239, {1: 1.0, 12: 1.0, 13: 1.0, 14: 1.0, 17: 1.0, 34: 3.0, 40: 3.0, 63: 1.0, 70: 1.0, 77: 1.0, 94: 1.0, 123: 2.0, 125: 1.0, 146: 1.0, 149: 1.0, 151: 1.0, 161: 1.0, 189: 1.0, 193: 1.0, 201: 1.0, 218: 1.0, 221: 1.0, 227: 2.0, 264: 1.0, 280: 3.0, 316: 1.0, 325: 1.0, 331: 1.0, 387: 1.0, 388: 1.0, 404: 1.0, 462: 1.0, 463: 2.0, 532: 1.0, 550: 2.0, 573: 4.0, 579: 1.0, 598: 1.0, 599: 1.0, 614: 2.0, 615: 2.0, 620: 1.0, 621: 2.0, 639: 1.0, 652: 1.0, 657: 1.0, 666: 1.0, 673: 1.0, 738: 1.0, 825: 1.0, 964: 1.0, 1007: 1.0, 1030: 1.0, 1067: 1.0, 1075: 1.0, 1092: 1.0, 1145: 1.0, 1159: 1.0, 1193: 3.0, 1250: 1.0, 1271: 1.0, 1321: 1.0, 1382: 1.0, 1442: 1.0, 1538: 1.0, 1552: 1.0, 1575: 1.0, 1622: 1.0, 1628: 1.0, 1634: 1.0, 1714: 1.0, 1717: 1.0, 1737: 2.0, 1766: 1.0, 1777: 5.0, 1792: 1.0, 1852: 1.0, 1853: 2.0, 1894: 1.0, 1942: 1.0, 1999: 1.0, 2006: 1.0, 2022: 1.0, 2205: 1.0, 2247: 2.0, 2291: 1.0, 2349: 1.0, 2376: 2.0, 2499: 1.0, 2528: 1.0, 2631: 1.0, 2716: 9.0, 2755: 1.0, 2761: 1.0, 2764: 1.0, 2774: 4.0, 2900: 4.0, 2949: 2.0, 3039: 1.0, 3147: 1.0, 3249: 1.0, 3415: 1.0, 3435: 2.0, 3443: 1.0, 3458: 1.0, 3531: 1.0, 3628: 1.0, 3785: 1.0, 3838: 1.0, 4098: 1.0, 4200: 1.0, 4213: 1.0, 4276: 3.0, 4428: 1.0, 4527: 2.0, 4566: 4.0, 4577: 1.0, 4638: 4.0, 4644: 1.0, 4658: 2.0, 4667: 1.0, 4929: 6.0, 5114: 1.0, 5157: 1.0, 5293: 1.0, 5691: 1.0, 5861: 1.0, 5884: 1.0, 6054: 1.0, 6094: 3.0, 6639: 1.0, 6844: 1.0, 7188: 1.0, 7283: 1.0, 7349: 1.0, 7392: 1.0, 7948: 2.0, 8027: 1.0, 8201: 1.0, 8773: 1.0, 8842: 1.0, 8912: 1.0, 8936: 1.0, 9281: 1.0, 9328: 1.0, 9510: 1.0, 10003: 1.0, 10235: 1.0, 10605: 1.0, 11082: 1.0, 11586: 3.0, 11683: 2.0, 11688: 1.0, 11975: 1.0, 12217: 2.0, 12732: 1.0, 13148: 1.0, 13625: 1.0, 14271: 3.0, 15485: 1.0, 17062: 1.0, 17537: 1.0, 18096: 2.0, 18539: 1.0, 19099: 1.0, 19953: 1.0, 20544: 1.0, 21721: 1.0, 21989: 1.0, 22051: 1.0, 22763: 1.0, 23080: 1.0, 23953: 1.0, 24469: 1.0, 26073: 1.0, 26203: 1.0, 31412: 4.0, 34921: 2.0, 38006: 1.0, 39468: 1.0, 40752: 1.0, 43087: 1.0, 43812: 4.0, 45550: 1.0, 47127: 1.0, 49744: 2.0, 51047: 1.0, 55734: 5.0, 60383: 1.0, 62511: 1.0, 72904: 1.0, 90800: 1.0, 109027: 1.0, 111018: 1.0, 121782: 2.0, 137856: 1.0, 152904: 1.0, 171890: 1.0, 172515: 1.0, 191470: 1.0, 196181: 1.0, 205463: 1.0, 217563: 1.0, 235139: 1.0, 267782: 1.0, 297097: 1.0, 321976: 1.0, 329288: 1.0, 337090: 1.0, 349550: 1.0}), topicDistribution=DenseVector([0.0636, 0.7321, 0.0966, 0.0503, 0.0574])),\n",
       " Row(id=5, features=SparseVector(370239, {3: 1.0, 7: 1.0, 8: 1.0, 14: 1.0, 27: 1.0, 42: 1.0, 67: 2.0, 76: 1.0, 89: 3.0, 94: 1.0, 98: 1.0, 133: 1.0, 170: 1.0, 178: 1.0, 209: 1.0, 257: 1.0, 260: 2.0, 278: 1.0, 304: 2.0, 565: 1.0, 701: 1.0, 874: 1.0, 1021: 1.0, 1043: 2.0, 1169: 1.0, 1284: 1.0, 1314: 1.0, 1676: 1.0, 2573: 1.0, 3114: 1.0, 3596: 1.0, 3852: 1.0, 5155: 1.0, 10169: 1.0, 11836: 1.0, 111543: 1.0}), topicDistribution=DenseVector([0.1853, 0.1827, 0.1967, 0.1789, 0.2564])),\n",
       " Row(id=6, features=SparseVector(370239, {1: 1.0, 10: 1.0, 14: 1.0, 18: 1.0, 21: 1.0, 36: 1.0, 49: 1.0, 53: 1.0, 57: 1.0, 62: 1.0, 67: 2.0, 72: 1.0, 75: 1.0, 100: 1.0, 108: 1.0, 124: 1.0, 202: 2.0, 223: 1.0, 247: 1.0, 260: 2.0, 278: 1.0, 281: 1.0, 295: 1.0, 302: 1.0, 304: 2.0, 388: 1.0, 440: 1.0, 462: 1.0, 538: 2.0, 690: 1.0, 738: 1.0, 821: 1.0, 897: 1.0, 969: 1.0, 1043: 1.0, 1064: 1.0, 1081: 2.0, 1210: 1.0, 1431: 1.0, 1499: 1.0, 1738: 1.0, 1823: 1.0, 2795: 2.0, 3627: 1.0, 3953: 1.0, 4508: 1.0, 4831: 1.0, 5291: 1.0, 5537: 1.0, 13942: 1.0, 50926: 1.0}), topicDistribution=DenseVector([0.1881, 0.2079, 0.1925, 0.1703, 0.2412])),\n",
       " Row(id=7, features=SparseVector(370239, {14: 2.0, 124: 1.0, 157: 1.0, 306: 2.0, 346: 1.0, 392: 1.0, 514: 1.0, 541: 1.0, 544: 1.0, 697: 1.0, 1080: 1.0, 1508: 1.0, 1812: 1.0, 2331: 1.0, 2367: 1.0, 2516: 1.0, 2975: 1.0, 4488: 1.0, 5203: 1.0, 6841: 1.0}), topicDistribution=DenseVector([0.1833, 0.1849, 0.195, 0.1868, 0.2501])),\n",
       " Row(id=8, features=SparseVector(370239, {7: 1.0, 28: 1.0, 34: 1.0, 37: 1.0, 44: 1.0, 69: 1.0, 105: 1.0, 118: 1.0, 164: 1.0, 178: 1.0, 239: 1.0, 242: 1.0, 257: 2.0, 260: 6.0, 278: 6.0, 304: 6.0, 350: 1.0, 436: 1.0, 448: 1.0, 554: 1.0, 697: 1.0, 824: 1.0, 1046: 1.0, 1139: 1.0, 1157: 1.0, 1521: 1.0, 1730: 1.0, 1847: 1.0, 1879: 1.0, 2005: 1.0, 2533: 2.0, 2706: 1.0, 3001: 1.0, 3070: 2.0, 4004: 1.0, 4380: 1.0, 5638: 2.0, 11565: 1.0, 12185: 1.0, 27954: 1.0, 29466: 1.0, 47525: 1.0}), topicDistribution=DenseVector([0.152, 0.15, 0.1593, 0.1555, 0.3832])),\n",
       " Row(id=9, features=SparseVector(370239, {8: 1.0, 45: 1.0, 46: 1.0, 53: 1.0, 273: 1.0, 346: 1.0, 482: 1.0, 958: 1.0, 972: 1.0, 1253: 1.0}), topicDistribution=DenseVector([0.1995, 0.1973, 0.2022, 0.1994, 0.2016]))]"
      ]
     },
     "execution_count": 116,
     "metadata": {},
     "output_type": "execute_result"
    }
   ],
   "source": [
    "dist"
   ]
  },
  {
   "cell_type": "code",
   "execution_count": null,
   "metadata": {
    "collapsed": false,
    "deletable": true,
    "editable": true
   },
   "outputs": [],
   "source": []
  },
  {
   "cell_type": "code",
   "execution_count": null,
   "metadata": {
    "collapsed": true,
    "deletable": true,
    "editable": true
   },
   "outputs": [],
   "source": []
  }
 ],
 "metadata": {
  "kernelspec": {
   "display_name": "Python 3",
   "language": "python",
   "name": "python3"
  },
  "language_info": {
   "codemirror_mode": {
    "name": "ipython",
    "version": 3
   },
   "file_extension": ".py",
   "mimetype": "text/x-python",
   "name": "python",
   "nbconvert_exporter": "python",
   "pygments_lexer": "ipython3",
   "version": "3.5.3"
  }
 },
 "nbformat": 4,
 "nbformat_minor": 2
}
